{
  "nbformat": 4,
  "nbformat_minor": 0,
  "metadata": {
    "colab": {
      "provenance": []
    },
    "kernelspec": {
      "display_name": "Python 3",
      "name": "python3"
    },
    "language_info": {
      "codemirror_mode": {
        "name": "ipython",
        "version": 3
      },
      "file_extension": ".py",
      "mimetype": "text/x-python",
      "name": "python",
      "nbconvert_exporter": "python",
      "pygments_lexer": "ipython3",
      "version": "3.8.5"
    }
  },
  "cells": [
    {
      "cell_type": "markdown",
      "metadata": {
        "id": "oYht3IoGwlyU"
      },
      "source": [
        "## Pandas: access to the remote json from MongoDB\n",
        "- The json file is generated on the fly from the express server of Node.js.\n",
        "- The data stored in MongoDB are saved in the json file.\n",
        "- The IMU data are composed of nine time series; acceleration, gyroscope, and magnetic field.\n"
      ]
    },
    {
      "cell_type": "code",
      "metadata": {
        "id": "GYezm0oWwlyW"
      },
      "source": [
        "import pandas as pd\n",
        "import numpy as np\n",
        "import matplotlib.pyplot as plt\n",
        "from matplotlib import animation, rc"
      ],
      "execution_count": 18,
      "outputs": []
    },
    {
      "cell_type": "markdown",
      "metadata": {
        "id": "1xQdk1RkeFpY"
      },
      "source": [
        "## [실시간 데이터 로드]\n",
        "- loading real-time json file from MongoDB via web\n",
        "\n",
        "- http://life21c.inje.ac.kr:3030/client_33imu_gauge.html"
      ]
    },
    {
      "cell_type": "code",
      "metadata": {
        "id": "jguBydRLwlyc",
        "colab": {
          "base_uri": "https://localhost:8080/"
        },
        "outputId": "d165029b-d423-4abf-bd2d-04ac1c9a20bf"
      },
      "source": [
        "# loading real-time json file from MongoDB via web (CORS, port=3030)\n",
        "url=\"http://life21c.inje.ac.kr:3030/iot\"\n",
        "df=pd.read_json(url)\n",
        "print('Large IoT data was retrieved successfully from MongoDB!')"
      ],
      "execution_count": 19,
      "outputs": [
        {
          "output_type": "stream",
          "name": "stdout",
          "text": [
            "Large IoT data was retrieved successfully from MongoDB!\n"
          ]
        }
      ]
    },
    {
      "cell_type": "code",
      "source": [
        "df.head()"
      ],
      "metadata": {
        "id": "NzUlB5YECVfm",
        "outputId": "fdd300a7-4b74-4087-9ef4-54b92fe7bb05",
        "colab": {
          "base_uri": "https://localhost:8080/",
          "height": 357
        }
      },
      "execution_count": 20,
      "outputs": [
        {
          "output_type": "execute_result",
          "data": {
            "text/plain": [
              "                        _id                    date  accel_x  accel_y  \\\n",
              "0  639a7a5d2f1ab8f42ac826c8 2022-12-15 10:37:33.724     0.03    -0.01   \n",
              "1  639a7a5e2f1ab8f42ac826ca 2022-12-15 10:37:34.233     0.03    -0.01   \n",
              "2  639a7a5e2f1ab8f42ac826cc 2022-12-15 10:37:34.742     0.03    -0.01   \n",
              "3  639a7a5f2f1ab8f42ac826ce 2022-12-15 10:37:35.251     0.03    -0.01   \n",
              "4  639a7a5f2f1ab8f42ac826d0 2022-12-15 10:37:35.760     0.03    -0.01   \n",
              "\n",
              "   accel_z  gyro_x  gyro_y  gyro_z  mag_x  mag_y  mag_z  __v  \n",
              "0     0.99   -0.18   -3.54   -0.31 -12.12  16.19 -42.16    0  \n",
              "1     0.99   -0.24   -3.60   -0.24 -11.82  16.52 -41.88    0  \n",
              "2     0.99   -0.06   -3.54   -0.24 -12.05  16.16 -41.75    0  \n",
              "3     0.99   -0.24   -3.48   -0.31 -12.06  16.21 -41.61    0  \n",
              "4     0.99   -0.24   -3.54   -0.31 -12.00  16.31 -42.70    0  "
            ],
            "text/html": [
              "\n",
              "  <div id=\"df-b7be4907-102b-496f-b720-db7a022acf56\">\n",
              "    <div class=\"colab-df-container\">\n",
              "      <div>\n",
              "<style scoped>\n",
              "    .dataframe tbody tr th:only-of-type {\n",
              "        vertical-align: middle;\n",
              "    }\n",
              "\n",
              "    .dataframe tbody tr th {\n",
              "        vertical-align: top;\n",
              "    }\n",
              "\n",
              "    .dataframe thead th {\n",
              "        text-align: right;\n",
              "    }\n",
              "</style>\n",
              "<table border=\"1\" class=\"dataframe\">\n",
              "  <thead>\n",
              "    <tr style=\"text-align: right;\">\n",
              "      <th></th>\n",
              "      <th>_id</th>\n",
              "      <th>date</th>\n",
              "      <th>accel_x</th>\n",
              "      <th>accel_y</th>\n",
              "      <th>accel_z</th>\n",
              "      <th>gyro_x</th>\n",
              "      <th>gyro_y</th>\n",
              "      <th>gyro_z</th>\n",
              "      <th>mag_x</th>\n",
              "      <th>mag_y</th>\n",
              "      <th>mag_z</th>\n",
              "      <th>__v</th>\n",
              "    </tr>\n",
              "  </thead>\n",
              "  <tbody>\n",
              "    <tr>\n",
              "      <th>0</th>\n",
              "      <td>639a7a5d2f1ab8f42ac826c8</td>\n",
              "      <td>2022-12-15 10:37:33.724</td>\n",
              "      <td>0.03</td>\n",
              "      <td>-0.01</td>\n",
              "      <td>0.99</td>\n",
              "      <td>-0.18</td>\n",
              "      <td>-3.54</td>\n",
              "      <td>-0.31</td>\n",
              "      <td>-12.12</td>\n",
              "      <td>16.19</td>\n",
              "      <td>-42.16</td>\n",
              "      <td>0</td>\n",
              "    </tr>\n",
              "    <tr>\n",
              "      <th>1</th>\n",
              "      <td>639a7a5e2f1ab8f42ac826ca</td>\n",
              "      <td>2022-12-15 10:37:34.233</td>\n",
              "      <td>0.03</td>\n",
              "      <td>-0.01</td>\n",
              "      <td>0.99</td>\n",
              "      <td>-0.24</td>\n",
              "      <td>-3.60</td>\n",
              "      <td>-0.24</td>\n",
              "      <td>-11.82</td>\n",
              "      <td>16.52</td>\n",
              "      <td>-41.88</td>\n",
              "      <td>0</td>\n",
              "    </tr>\n",
              "    <tr>\n",
              "      <th>2</th>\n",
              "      <td>639a7a5e2f1ab8f42ac826cc</td>\n",
              "      <td>2022-12-15 10:37:34.742</td>\n",
              "      <td>0.03</td>\n",
              "      <td>-0.01</td>\n",
              "      <td>0.99</td>\n",
              "      <td>-0.06</td>\n",
              "      <td>-3.54</td>\n",
              "      <td>-0.24</td>\n",
              "      <td>-12.05</td>\n",
              "      <td>16.16</td>\n",
              "      <td>-41.75</td>\n",
              "      <td>0</td>\n",
              "    </tr>\n",
              "    <tr>\n",
              "      <th>3</th>\n",
              "      <td>639a7a5f2f1ab8f42ac826ce</td>\n",
              "      <td>2022-12-15 10:37:35.251</td>\n",
              "      <td>0.03</td>\n",
              "      <td>-0.01</td>\n",
              "      <td>0.99</td>\n",
              "      <td>-0.24</td>\n",
              "      <td>-3.48</td>\n",
              "      <td>-0.31</td>\n",
              "      <td>-12.06</td>\n",
              "      <td>16.21</td>\n",
              "      <td>-41.61</td>\n",
              "      <td>0</td>\n",
              "    </tr>\n",
              "    <tr>\n",
              "      <th>4</th>\n",
              "      <td>639a7a5f2f1ab8f42ac826d0</td>\n",
              "      <td>2022-12-15 10:37:35.760</td>\n",
              "      <td>0.03</td>\n",
              "      <td>-0.01</td>\n",
              "      <td>0.99</td>\n",
              "      <td>-0.24</td>\n",
              "      <td>-3.54</td>\n",
              "      <td>-0.31</td>\n",
              "      <td>-12.00</td>\n",
              "      <td>16.31</td>\n",
              "      <td>-42.70</td>\n",
              "      <td>0</td>\n",
              "    </tr>\n",
              "  </tbody>\n",
              "</table>\n",
              "</div>\n",
              "      <button class=\"colab-df-convert\" onclick=\"convertToInteractive('df-b7be4907-102b-496f-b720-db7a022acf56')\"\n",
              "              title=\"Convert this dataframe to an interactive table.\"\n",
              "              style=\"display:none;\">\n",
              "        \n",
              "  <svg xmlns=\"http://www.w3.org/2000/svg\" height=\"24px\"viewBox=\"0 0 24 24\"\n",
              "       width=\"24px\">\n",
              "    <path d=\"M0 0h24v24H0V0z\" fill=\"none\"/>\n",
              "    <path d=\"M18.56 5.44l.94 2.06.94-2.06 2.06-.94-2.06-.94-.94-2.06-.94 2.06-2.06.94zm-11 1L8.5 8.5l.94-2.06 2.06-.94-2.06-.94L8.5 2.5l-.94 2.06-2.06.94zm10 10l.94 2.06.94-2.06 2.06-.94-2.06-.94-.94-2.06-.94 2.06-2.06.94z\"/><path d=\"M17.41 7.96l-1.37-1.37c-.4-.4-.92-.59-1.43-.59-.52 0-1.04.2-1.43.59L10.3 9.45l-7.72 7.72c-.78.78-.78 2.05 0 2.83L4 21.41c.39.39.9.59 1.41.59.51 0 1.02-.2 1.41-.59l7.78-7.78 2.81-2.81c.8-.78.8-2.07 0-2.86zM5.41 20L4 18.59l7.72-7.72 1.47 1.35L5.41 20z\"/>\n",
              "  </svg>\n",
              "      </button>\n",
              "      \n",
              "  <style>\n",
              "    .colab-df-container {\n",
              "      display:flex;\n",
              "      flex-wrap:wrap;\n",
              "      gap: 12px;\n",
              "    }\n",
              "\n",
              "    .colab-df-convert {\n",
              "      background-color: #E8F0FE;\n",
              "      border: none;\n",
              "      border-radius: 50%;\n",
              "      cursor: pointer;\n",
              "      display: none;\n",
              "      fill: #1967D2;\n",
              "      height: 32px;\n",
              "      padding: 0 0 0 0;\n",
              "      width: 32px;\n",
              "    }\n",
              "\n",
              "    .colab-df-convert:hover {\n",
              "      background-color: #E2EBFA;\n",
              "      box-shadow: 0px 1px 2px rgba(60, 64, 67, 0.3), 0px 1px 3px 1px rgba(60, 64, 67, 0.15);\n",
              "      fill: #174EA6;\n",
              "    }\n",
              "\n",
              "    [theme=dark] .colab-df-convert {\n",
              "      background-color: #3B4455;\n",
              "      fill: #D2E3FC;\n",
              "    }\n",
              "\n",
              "    [theme=dark] .colab-df-convert:hover {\n",
              "      background-color: #434B5C;\n",
              "      box-shadow: 0px 1px 3px 1px rgba(0, 0, 0, 0.15);\n",
              "      filter: drop-shadow(0px 1px 2px rgba(0, 0, 0, 0.3));\n",
              "      fill: #FFFFFF;\n",
              "    }\n",
              "  </style>\n",
              "\n",
              "      <script>\n",
              "        const buttonEl =\n",
              "          document.querySelector('#df-b7be4907-102b-496f-b720-db7a022acf56 button.colab-df-convert');\n",
              "        buttonEl.style.display =\n",
              "          google.colab.kernel.accessAllowed ? 'block' : 'none';\n",
              "\n",
              "        async function convertToInteractive(key) {\n",
              "          const element = document.querySelector('#df-b7be4907-102b-496f-b720-db7a022acf56');\n",
              "          const dataTable =\n",
              "            await google.colab.kernel.invokeFunction('convertToInteractive',\n",
              "                                                     [key], {});\n",
              "          if (!dataTable) return;\n",
              "\n",
              "          const docLinkHtml = 'Like what you see? Visit the ' +\n",
              "            '<a target=\"_blank\" href=https://colab.research.google.com/notebooks/data_table.ipynb>data table notebook</a>'\n",
              "            + ' to learn more about interactive tables.';\n",
              "          element.innerHTML = '';\n",
              "          dataTable['output_type'] = 'display_data';\n",
              "          await google.colab.output.renderOutput(dataTable, element);\n",
              "          const docLink = document.createElement('div');\n",
              "          docLink.innerHTML = docLinkHtml;\n",
              "          element.appendChild(docLink);\n",
              "        }\n",
              "      </script>\n",
              "    </div>\n",
              "  </div>\n",
              "  "
            ]
          },
          "metadata": {},
          "execution_count": 20
        }
      ]
    },
    {
      "cell_type": "code",
      "metadata": {
        "colab": {
          "base_uri": "https://localhost:8080/",
          "height": 357
        },
        "id": "Qz0XxhI4wlyn",
        "outputId": "4b675367-d885-4651-d17f-1e1ec82f077e"
      },
      "source": [
        "df.tail()"
      ],
      "execution_count": 21,
      "outputs": [
        {
          "output_type": "execute_result",
          "data": {
            "text/plain": [
              "                            _id                    date  accel_x  accel_y  \\\n",
              "31091  639ab8652eb916f872310af4 2022-12-15 15:02:13.621     0.04    -0.01   \n",
              "31092  639ab8662eb916f872310af6 2022-12-15 15:02:14.130     0.03    -0.00   \n",
              "31093  639ab8662eb916f872310af8 2022-12-15 15:02:14.639     0.03    -0.01   \n",
              "31094  639ab8672eb916f872310afa 2022-12-15 15:02:15.148     0.04    -0.01   \n",
              "31095  639ab8672eb916f872310afc 2022-12-15 15:02:15.657     0.03    -0.00   \n",
              "\n",
              "       accel_z  gyro_x  gyro_y  gyro_z  mag_x  mag_y  mag_z  __v  \n",
              "31091     0.99   -0.31   -3.60   -0.31 -11.66  -1.92 -54.63    0  \n",
              "31092     0.99   -0.18   -3.78   -0.31 -11.68  -1.10 -55.80    0  \n",
              "31093     0.99   -0.24   -3.66   -0.31 -12.27  -1.88 -55.51    0  \n",
              "31094     0.99   -0.18   -3.60   -0.24 -11.94  -1.49 -54.37    0  \n",
              "31095     0.99   -0.24   -3.48   -0.24 -11.50  -1.60 -55.29    0  "
            ],
            "text/html": [
              "\n",
              "  <div id=\"df-9bb86429-6a4a-4271-bcd8-03687cb23d42\">\n",
              "    <div class=\"colab-df-container\">\n",
              "      <div>\n",
              "<style scoped>\n",
              "    .dataframe tbody tr th:only-of-type {\n",
              "        vertical-align: middle;\n",
              "    }\n",
              "\n",
              "    .dataframe tbody tr th {\n",
              "        vertical-align: top;\n",
              "    }\n",
              "\n",
              "    .dataframe thead th {\n",
              "        text-align: right;\n",
              "    }\n",
              "</style>\n",
              "<table border=\"1\" class=\"dataframe\">\n",
              "  <thead>\n",
              "    <tr style=\"text-align: right;\">\n",
              "      <th></th>\n",
              "      <th>_id</th>\n",
              "      <th>date</th>\n",
              "      <th>accel_x</th>\n",
              "      <th>accel_y</th>\n",
              "      <th>accel_z</th>\n",
              "      <th>gyro_x</th>\n",
              "      <th>gyro_y</th>\n",
              "      <th>gyro_z</th>\n",
              "      <th>mag_x</th>\n",
              "      <th>mag_y</th>\n",
              "      <th>mag_z</th>\n",
              "      <th>__v</th>\n",
              "    </tr>\n",
              "  </thead>\n",
              "  <tbody>\n",
              "    <tr>\n",
              "      <th>31091</th>\n",
              "      <td>639ab8652eb916f872310af4</td>\n",
              "      <td>2022-12-15 15:02:13.621</td>\n",
              "      <td>0.04</td>\n",
              "      <td>-0.01</td>\n",
              "      <td>0.99</td>\n",
              "      <td>-0.31</td>\n",
              "      <td>-3.60</td>\n",
              "      <td>-0.31</td>\n",
              "      <td>-11.66</td>\n",
              "      <td>-1.92</td>\n",
              "      <td>-54.63</td>\n",
              "      <td>0</td>\n",
              "    </tr>\n",
              "    <tr>\n",
              "      <th>31092</th>\n",
              "      <td>639ab8662eb916f872310af6</td>\n",
              "      <td>2022-12-15 15:02:14.130</td>\n",
              "      <td>0.03</td>\n",
              "      <td>-0.00</td>\n",
              "      <td>0.99</td>\n",
              "      <td>-0.18</td>\n",
              "      <td>-3.78</td>\n",
              "      <td>-0.31</td>\n",
              "      <td>-11.68</td>\n",
              "      <td>-1.10</td>\n",
              "      <td>-55.80</td>\n",
              "      <td>0</td>\n",
              "    </tr>\n",
              "    <tr>\n",
              "      <th>31093</th>\n",
              "      <td>639ab8662eb916f872310af8</td>\n",
              "      <td>2022-12-15 15:02:14.639</td>\n",
              "      <td>0.03</td>\n",
              "      <td>-0.01</td>\n",
              "      <td>0.99</td>\n",
              "      <td>-0.24</td>\n",
              "      <td>-3.66</td>\n",
              "      <td>-0.31</td>\n",
              "      <td>-12.27</td>\n",
              "      <td>-1.88</td>\n",
              "      <td>-55.51</td>\n",
              "      <td>0</td>\n",
              "    </tr>\n",
              "    <tr>\n",
              "      <th>31094</th>\n",
              "      <td>639ab8672eb916f872310afa</td>\n",
              "      <td>2022-12-15 15:02:15.148</td>\n",
              "      <td>0.04</td>\n",
              "      <td>-0.01</td>\n",
              "      <td>0.99</td>\n",
              "      <td>-0.18</td>\n",
              "      <td>-3.60</td>\n",
              "      <td>-0.24</td>\n",
              "      <td>-11.94</td>\n",
              "      <td>-1.49</td>\n",
              "      <td>-54.37</td>\n",
              "      <td>0</td>\n",
              "    </tr>\n",
              "    <tr>\n",
              "      <th>31095</th>\n",
              "      <td>639ab8672eb916f872310afc</td>\n",
              "      <td>2022-12-15 15:02:15.657</td>\n",
              "      <td>0.03</td>\n",
              "      <td>-0.00</td>\n",
              "      <td>0.99</td>\n",
              "      <td>-0.24</td>\n",
              "      <td>-3.48</td>\n",
              "      <td>-0.24</td>\n",
              "      <td>-11.50</td>\n",
              "      <td>-1.60</td>\n",
              "      <td>-55.29</td>\n",
              "      <td>0</td>\n",
              "    </tr>\n",
              "  </tbody>\n",
              "</table>\n",
              "</div>\n",
              "      <button class=\"colab-df-convert\" onclick=\"convertToInteractive('df-9bb86429-6a4a-4271-bcd8-03687cb23d42')\"\n",
              "              title=\"Convert this dataframe to an interactive table.\"\n",
              "              style=\"display:none;\">\n",
              "        \n",
              "  <svg xmlns=\"http://www.w3.org/2000/svg\" height=\"24px\"viewBox=\"0 0 24 24\"\n",
              "       width=\"24px\">\n",
              "    <path d=\"M0 0h24v24H0V0z\" fill=\"none\"/>\n",
              "    <path d=\"M18.56 5.44l.94 2.06.94-2.06 2.06-.94-2.06-.94-.94-2.06-.94 2.06-2.06.94zm-11 1L8.5 8.5l.94-2.06 2.06-.94-2.06-.94L8.5 2.5l-.94 2.06-2.06.94zm10 10l.94 2.06.94-2.06 2.06-.94-2.06-.94-.94-2.06-.94 2.06-2.06.94z\"/><path d=\"M17.41 7.96l-1.37-1.37c-.4-.4-.92-.59-1.43-.59-.52 0-1.04.2-1.43.59L10.3 9.45l-7.72 7.72c-.78.78-.78 2.05 0 2.83L4 21.41c.39.39.9.59 1.41.59.51 0 1.02-.2 1.41-.59l7.78-7.78 2.81-2.81c.8-.78.8-2.07 0-2.86zM5.41 20L4 18.59l7.72-7.72 1.47 1.35L5.41 20z\"/>\n",
              "  </svg>\n",
              "      </button>\n",
              "      \n",
              "  <style>\n",
              "    .colab-df-container {\n",
              "      display:flex;\n",
              "      flex-wrap:wrap;\n",
              "      gap: 12px;\n",
              "    }\n",
              "\n",
              "    .colab-df-convert {\n",
              "      background-color: #E8F0FE;\n",
              "      border: none;\n",
              "      border-radius: 50%;\n",
              "      cursor: pointer;\n",
              "      display: none;\n",
              "      fill: #1967D2;\n",
              "      height: 32px;\n",
              "      padding: 0 0 0 0;\n",
              "      width: 32px;\n",
              "    }\n",
              "\n",
              "    .colab-df-convert:hover {\n",
              "      background-color: #E2EBFA;\n",
              "      box-shadow: 0px 1px 2px rgba(60, 64, 67, 0.3), 0px 1px 3px 1px rgba(60, 64, 67, 0.15);\n",
              "      fill: #174EA6;\n",
              "    }\n",
              "\n",
              "    [theme=dark] .colab-df-convert {\n",
              "      background-color: #3B4455;\n",
              "      fill: #D2E3FC;\n",
              "    }\n",
              "\n",
              "    [theme=dark] .colab-df-convert:hover {\n",
              "      background-color: #434B5C;\n",
              "      box-shadow: 0px 1px 3px 1px rgba(0, 0, 0, 0.15);\n",
              "      filter: drop-shadow(0px 1px 2px rgba(0, 0, 0, 0.3));\n",
              "      fill: #FFFFFF;\n",
              "    }\n",
              "  </style>\n",
              "\n",
              "      <script>\n",
              "        const buttonEl =\n",
              "          document.querySelector('#df-9bb86429-6a4a-4271-bcd8-03687cb23d42 button.colab-df-convert');\n",
              "        buttonEl.style.display =\n",
              "          google.colab.kernel.accessAllowed ? 'block' : 'none';\n",
              "\n",
              "        async function convertToInteractive(key) {\n",
              "          const element = document.querySelector('#df-9bb86429-6a4a-4271-bcd8-03687cb23d42');\n",
              "          const dataTable =\n",
              "            await google.colab.kernel.invokeFunction('convertToInteractive',\n",
              "                                                     [key], {});\n",
              "          if (!dataTable) return;\n",
              "\n",
              "          const docLinkHtml = 'Like what you see? Visit the ' +\n",
              "            '<a target=\"_blank\" href=https://colab.research.google.com/notebooks/data_table.ipynb>data table notebook</a>'\n",
              "            + ' to learn more about interactive tables.';\n",
              "          element.innerHTML = '';\n",
              "          dataTable['output_type'] = 'display_data';\n",
              "          await google.colab.output.renderOutput(dataTable, element);\n",
              "          const docLink = document.createElement('div');\n",
              "          docLink.innerHTML = docLinkHtml;\n",
              "          element.appendChild(docLink);\n",
              "        }\n",
              "      </script>\n",
              "    </div>\n",
              "  </div>\n",
              "  "
            ]
          },
          "metadata": {},
          "execution_count": 21
        }
      ]
    },
    {
      "cell_type": "code",
      "metadata": {
        "colab": {
          "base_uri": "https://localhost:8080/"
        },
        "id": "xu5T5omfwlys",
        "outputId": "00966cc0-ba52-4c4c-f676-7dc2b26c71f6"
      },
      "source": [
        "df.shape, type(df)"
      ],
      "execution_count": 22,
      "outputs": [
        {
          "output_type": "execute_result",
          "data": {
            "text/plain": [
              "((31096, 12), pandas.core.frame.DataFrame)"
            ]
          },
          "metadata": {},
          "execution_count": 22
        }
      ]
    },
    {
      "cell_type": "code",
      "metadata": {
        "colab": {
          "base_uri": "https://localhost:8080/"
        },
        "id": "IGr_hz20Il9L",
        "outputId": "18ec6f1c-5e4b-4ec3-d14c-cb7ba376e120"
      },
      "source": [
        "df['date'][:1],df['date'][-1:]"
      ],
      "execution_count": 23,
      "outputs": [
        {
          "output_type": "execute_result",
          "data": {
            "text/plain": [
              "(0   2022-12-15 10:37:33.724\n",
              " Name: date, dtype: datetime64[ns], 31095   2022-12-15 15:02:15.657\n",
              " Name: date, dtype: datetime64[ns])"
            ]
          },
          "metadata": {},
          "execution_count": 23
        }
      ]
    },
    {
      "cell_type": "code",
      "metadata": {
        "colab": {
          "base_uri": "https://localhost:8080/"
        },
        "id": "Ba7jYmgKwlyx",
        "outputId": "c3c336ea-4cbc-4322-ea37-c179be82740a"
      },
      "source": [
        "df.info()"
      ],
      "execution_count": 24,
      "outputs": [
        {
          "output_type": "stream",
          "name": "stdout",
          "text": [
            "<class 'pandas.core.frame.DataFrame'>\n",
            "RangeIndex: 31096 entries, 0 to 31095\n",
            "Data columns (total 12 columns):\n",
            " #   Column   Non-Null Count  Dtype         \n",
            "---  ------   --------------  -----         \n",
            " 0   _id      31096 non-null  object        \n",
            " 1   date     31096 non-null  datetime64[ns]\n",
            " 2   accel_x  31096 non-null  float64       \n",
            " 3   accel_y  31096 non-null  float64       \n",
            " 4   accel_z  31096 non-null  float64       \n",
            " 5   gyro_x   31096 non-null  float64       \n",
            " 6   gyro_y   31096 non-null  float64       \n",
            " 7   gyro_z   31096 non-null  float64       \n",
            " 8   mag_x    31096 non-null  float64       \n",
            " 9   mag_y    31096 non-null  float64       \n",
            " 10  mag_z    31096 non-null  float64       \n",
            " 11  __v      31096 non-null  int64         \n",
            "dtypes: datetime64[ns](1), float64(9), int64(1), object(1)\n",
            "memory usage: 2.8+ MB\n"
          ]
        }
      ]
    },
    {
      "cell_type": "code",
      "metadata": {
        "colab": {
          "base_uri": "https://localhost:8080/",
          "height": 364
        },
        "id": "6VGEIgiEydOV",
        "outputId": "44ca1ab5-7725-45d6-ac0a-3949bc544b29"
      },
      "source": [
        "df.describe()"
      ],
      "execution_count": 25,
      "outputs": [
        {
          "output_type": "execute_result",
          "data": {
            "text/plain": [
              "            accel_x       accel_y       accel_z        gyro_x        gyro_y  \\\n",
              "count  31096.000000  31096.000000  31096.000000  31096.000000  31096.000000   \n",
              "mean      -0.007525     -0.003528      0.939688     -0.024253     -3.219864   \n",
              "std        0.227725      0.154531      0.235093     44.786113     36.949373   \n",
              "min       -2.900000     -2.250000     -1.600000   -909.550000   -613.160000   \n",
              "25%        0.010000     -0.010000      0.990000     -0.310000     -3.600000   \n",
              "50%        0.030000     -0.000000      0.990000     -0.240000     -3.540000   \n",
              "75%        0.030000      0.000000      0.990000     -0.180000     -3.420000   \n",
              "max        1.400000      1.680000      2.510000   1258.610000    663.150000   \n",
              "\n",
              "             gyro_z         mag_x        mag_y         mag_z      __v  \n",
              "count  31096.000000  31096.000000  31096.00000  31096.000000  31096.0  \n",
              "mean      -0.305585     -3.634154      2.17758    -50.845903      0.0  \n",
              "std       29.023471     11.752993     11.32658     15.778738      0.0  \n",
              "min     -480.350000    -47.270000    -26.55000   -103.260000      0.0  \n",
              "25%       -0.370000    -11.540000     -5.77000    -55.320000      0.0  \n",
              "50%       -0.310000     -7.650000     -1.89000    -53.970000      0.0  \n",
              "75%       -0.240000      1.340000      7.43000    -46.170000      0.0  \n",
              "max      421.870000     35.130000     45.08000     38.240000      0.0  "
            ],
            "text/html": [
              "\n",
              "  <div id=\"df-ba29e48d-eeec-4992-b503-fc7e22e9baed\">\n",
              "    <div class=\"colab-df-container\">\n",
              "      <div>\n",
              "<style scoped>\n",
              "    .dataframe tbody tr th:only-of-type {\n",
              "        vertical-align: middle;\n",
              "    }\n",
              "\n",
              "    .dataframe tbody tr th {\n",
              "        vertical-align: top;\n",
              "    }\n",
              "\n",
              "    .dataframe thead th {\n",
              "        text-align: right;\n",
              "    }\n",
              "</style>\n",
              "<table border=\"1\" class=\"dataframe\">\n",
              "  <thead>\n",
              "    <tr style=\"text-align: right;\">\n",
              "      <th></th>\n",
              "      <th>accel_x</th>\n",
              "      <th>accel_y</th>\n",
              "      <th>accel_z</th>\n",
              "      <th>gyro_x</th>\n",
              "      <th>gyro_y</th>\n",
              "      <th>gyro_z</th>\n",
              "      <th>mag_x</th>\n",
              "      <th>mag_y</th>\n",
              "      <th>mag_z</th>\n",
              "      <th>__v</th>\n",
              "    </tr>\n",
              "  </thead>\n",
              "  <tbody>\n",
              "    <tr>\n",
              "      <th>count</th>\n",
              "      <td>31096.000000</td>\n",
              "      <td>31096.000000</td>\n",
              "      <td>31096.000000</td>\n",
              "      <td>31096.000000</td>\n",
              "      <td>31096.000000</td>\n",
              "      <td>31096.000000</td>\n",
              "      <td>31096.000000</td>\n",
              "      <td>31096.00000</td>\n",
              "      <td>31096.000000</td>\n",
              "      <td>31096.0</td>\n",
              "    </tr>\n",
              "    <tr>\n",
              "      <th>mean</th>\n",
              "      <td>-0.007525</td>\n",
              "      <td>-0.003528</td>\n",
              "      <td>0.939688</td>\n",
              "      <td>-0.024253</td>\n",
              "      <td>-3.219864</td>\n",
              "      <td>-0.305585</td>\n",
              "      <td>-3.634154</td>\n",
              "      <td>2.17758</td>\n",
              "      <td>-50.845903</td>\n",
              "      <td>0.0</td>\n",
              "    </tr>\n",
              "    <tr>\n",
              "      <th>std</th>\n",
              "      <td>0.227725</td>\n",
              "      <td>0.154531</td>\n",
              "      <td>0.235093</td>\n",
              "      <td>44.786113</td>\n",
              "      <td>36.949373</td>\n",
              "      <td>29.023471</td>\n",
              "      <td>11.752993</td>\n",
              "      <td>11.32658</td>\n",
              "      <td>15.778738</td>\n",
              "      <td>0.0</td>\n",
              "    </tr>\n",
              "    <tr>\n",
              "      <th>min</th>\n",
              "      <td>-2.900000</td>\n",
              "      <td>-2.250000</td>\n",
              "      <td>-1.600000</td>\n",
              "      <td>-909.550000</td>\n",
              "      <td>-613.160000</td>\n",
              "      <td>-480.350000</td>\n",
              "      <td>-47.270000</td>\n",
              "      <td>-26.55000</td>\n",
              "      <td>-103.260000</td>\n",
              "      <td>0.0</td>\n",
              "    </tr>\n",
              "    <tr>\n",
              "      <th>25%</th>\n",
              "      <td>0.010000</td>\n",
              "      <td>-0.010000</td>\n",
              "      <td>0.990000</td>\n",
              "      <td>-0.310000</td>\n",
              "      <td>-3.600000</td>\n",
              "      <td>-0.370000</td>\n",
              "      <td>-11.540000</td>\n",
              "      <td>-5.77000</td>\n",
              "      <td>-55.320000</td>\n",
              "      <td>0.0</td>\n",
              "    </tr>\n",
              "    <tr>\n",
              "      <th>50%</th>\n",
              "      <td>0.030000</td>\n",
              "      <td>-0.000000</td>\n",
              "      <td>0.990000</td>\n",
              "      <td>-0.240000</td>\n",
              "      <td>-3.540000</td>\n",
              "      <td>-0.310000</td>\n",
              "      <td>-7.650000</td>\n",
              "      <td>-1.89000</td>\n",
              "      <td>-53.970000</td>\n",
              "      <td>0.0</td>\n",
              "    </tr>\n",
              "    <tr>\n",
              "      <th>75%</th>\n",
              "      <td>0.030000</td>\n",
              "      <td>0.000000</td>\n",
              "      <td>0.990000</td>\n",
              "      <td>-0.180000</td>\n",
              "      <td>-3.420000</td>\n",
              "      <td>-0.240000</td>\n",
              "      <td>1.340000</td>\n",
              "      <td>7.43000</td>\n",
              "      <td>-46.170000</td>\n",
              "      <td>0.0</td>\n",
              "    </tr>\n",
              "    <tr>\n",
              "      <th>max</th>\n",
              "      <td>1.400000</td>\n",
              "      <td>1.680000</td>\n",
              "      <td>2.510000</td>\n",
              "      <td>1258.610000</td>\n",
              "      <td>663.150000</td>\n",
              "      <td>421.870000</td>\n",
              "      <td>35.130000</td>\n",
              "      <td>45.08000</td>\n",
              "      <td>38.240000</td>\n",
              "      <td>0.0</td>\n",
              "    </tr>\n",
              "  </tbody>\n",
              "</table>\n",
              "</div>\n",
              "      <button class=\"colab-df-convert\" onclick=\"convertToInteractive('df-ba29e48d-eeec-4992-b503-fc7e22e9baed')\"\n",
              "              title=\"Convert this dataframe to an interactive table.\"\n",
              "              style=\"display:none;\">\n",
              "        \n",
              "  <svg xmlns=\"http://www.w3.org/2000/svg\" height=\"24px\"viewBox=\"0 0 24 24\"\n",
              "       width=\"24px\">\n",
              "    <path d=\"M0 0h24v24H0V0z\" fill=\"none\"/>\n",
              "    <path d=\"M18.56 5.44l.94 2.06.94-2.06 2.06-.94-2.06-.94-.94-2.06-.94 2.06-2.06.94zm-11 1L8.5 8.5l.94-2.06 2.06-.94-2.06-.94L8.5 2.5l-.94 2.06-2.06.94zm10 10l.94 2.06.94-2.06 2.06-.94-2.06-.94-.94-2.06-.94 2.06-2.06.94z\"/><path d=\"M17.41 7.96l-1.37-1.37c-.4-.4-.92-.59-1.43-.59-.52 0-1.04.2-1.43.59L10.3 9.45l-7.72 7.72c-.78.78-.78 2.05 0 2.83L4 21.41c.39.39.9.59 1.41.59.51 0 1.02-.2 1.41-.59l7.78-7.78 2.81-2.81c.8-.78.8-2.07 0-2.86zM5.41 20L4 18.59l7.72-7.72 1.47 1.35L5.41 20z\"/>\n",
              "  </svg>\n",
              "      </button>\n",
              "      \n",
              "  <style>\n",
              "    .colab-df-container {\n",
              "      display:flex;\n",
              "      flex-wrap:wrap;\n",
              "      gap: 12px;\n",
              "    }\n",
              "\n",
              "    .colab-df-convert {\n",
              "      background-color: #E8F0FE;\n",
              "      border: none;\n",
              "      border-radius: 50%;\n",
              "      cursor: pointer;\n",
              "      display: none;\n",
              "      fill: #1967D2;\n",
              "      height: 32px;\n",
              "      padding: 0 0 0 0;\n",
              "      width: 32px;\n",
              "    }\n",
              "\n",
              "    .colab-df-convert:hover {\n",
              "      background-color: #E2EBFA;\n",
              "      box-shadow: 0px 1px 2px rgba(60, 64, 67, 0.3), 0px 1px 3px 1px rgba(60, 64, 67, 0.15);\n",
              "      fill: #174EA6;\n",
              "    }\n",
              "\n",
              "    [theme=dark] .colab-df-convert {\n",
              "      background-color: #3B4455;\n",
              "      fill: #D2E3FC;\n",
              "    }\n",
              "\n",
              "    [theme=dark] .colab-df-convert:hover {\n",
              "      background-color: #434B5C;\n",
              "      box-shadow: 0px 1px 3px 1px rgba(0, 0, 0, 0.15);\n",
              "      filter: drop-shadow(0px 1px 2px rgba(0, 0, 0, 0.3));\n",
              "      fill: #FFFFFF;\n",
              "    }\n",
              "  </style>\n",
              "\n",
              "      <script>\n",
              "        const buttonEl =\n",
              "          document.querySelector('#df-ba29e48d-eeec-4992-b503-fc7e22e9baed button.colab-df-convert');\n",
              "        buttonEl.style.display =\n",
              "          google.colab.kernel.accessAllowed ? 'block' : 'none';\n",
              "\n",
              "        async function convertToInteractive(key) {\n",
              "          const element = document.querySelector('#df-ba29e48d-eeec-4992-b503-fc7e22e9baed');\n",
              "          const dataTable =\n",
              "            await google.colab.kernel.invokeFunction('convertToInteractive',\n",
              "                                                     [key], {});\n",
              "          if (!dataTable) return;\n",
              "\n",
              "          const docLinkHtml = 'Like what you see? Visit the ' +\n",
              "            '<a target=\"_blank\" href=https://colab.research.google.com/notebooks/data_table.ipynb>data table notebook</a>'\n",
              "            + ' to learn more about interactive tables.';\n",
              "          element.innerHTML = '';\n",
              "          dataTable['output_type'] = 'display_data';\n",
              "          await google.colab.output.renderOutput(dataTable, element);\n",
              "          const docLink = document.createElement('div');\n",
              "          docLink.innerHTML = docLinkHtml;\n",
              "          element.appendChild(docLink);\n",
              "        }\n",
              "      </script>\n",
              "    </div>\n",
              "  </div>\n",
              "  "
            ]
          },
          "metadata": {},
          "execution_count": 25
        }
      ]
    },
    {
      "cell_type": "markdown",
      "metadata": {
        "id": "g9Z8adSvNEp_"
      },
      "source": [
        "## Check data\n",
        "- NaN\n",
        "- missing value"
      ]
    },
    {
      "cell_type": "code",
      "metadata": {
        "colab": {
          "base_uri": "https://localhost:8080/"
        },
        "id": "c35w4k5fNJRI",
        "outputId": "1abfb0bd-f31f-4a1f-aafb-ec527d5375e9"
      },
      "source": [
        "df.isnull().sum() #/df.shape[0]*100"
      ],
      "execution_count": 26,
      "outputs": [
        {
          "output_type": "execute_result",
          "data": {
            "text/plain": [
              "_id        0\n",
              "date       0\n",
              "accel_x    0\n",
              "accel_y    0\n",
              "accel_z    0\n",
              "gyro_x     0\n",
              "gyro_y     0\n",
              "gyro_z     0\n",
              "mag_x      0\n",
              "mag_y      0\n",
              "mag_z      0\n",
              "__v        0\n",
              "dtype: int64"
            ]
          },
          "metadata": {},
          "execution_count": 26
        }
      ]
    },
    {
      "cell_type": "code",
      "metadata": {
        "colab": {
          "base_uri": "https://localhost:8080/"
        },
        "id": "V6txumYNbERU",
        "outputId": "a8dad06c-04bf-4918-9bc7-e70cfabc367b"
      },
      "source": [
        "df.isna().sum()"
      ],
      "execution_count": 27,
      "outputs": [
        {
          "output_type": "execute_result",
          "data": {
            "text/plain": [
              "_id        0\n",
              "date       0\n",
              "accel_x    0\n",
              "accel_y    0\n",
              "accel_z    0\n",
              "gyro_x     0\n",
              "gyro_y     0\n",
              "gyro_z     0\n",
              "mag_x      0\n",
              "mag_y      0\n",
              "mag_z      0\n",
              "__v        0\n",
              "dtype: int64"
            ]
          },
          "metadata": {},
          "execution_count": 27
        }
      ]
    },
    {
      "cell_type": "markdown",
      "metadata": {
        "id": "eR-9lPsaN1ce"
      },
      "source": [
        "## Replace NaN with mean: Imputation\n",
        "- NaN ==>> mean, 33.3 (100/3)"
      ]
    },
    {
      "cell_type": "code",
      "metadata": {
        "id": "aOZec4f9Z4uB"
      },
      "source": [
        "# df=df.fillna(33.3)\n",
        "# df.isna().sum()"
      ],
      "execution_count": 28,
      "outputs": []
    },
    {
      "cell_type": "markdown",
      "metadata": {
        "id": "fMZWYEMxOmSy"
      },
      "source": [
        "## IoT data were cleaned!"
      ]
    },
    {
      "cell_type": "code",
      "source": [
        "# Save cleaned iot data in csv file.\n",
        "df.to_csv('iot33imu_data_cleaned_221215_raw.csv')"
      ],
      "metadata": {
        "id": "N6MPFoVPDKAV"
      },
      "execution_count": 29,
      "outputs": []
    },
    {
      "cell_type": "code",
      "metadata": {
        "colab": {
          "base_uri": "https://localhost:8080/",
          "height": 357
        },
        "id": "PG38R4s0pU4B",
        "outputId": "305456e3-c0f1-4474-b376-39896ef611c7"
      },
      "source": [
        "df.head()"
      ],
      "execution_count": 30,
      "outputs": [
        {
          "output_type": "execute_result",
          "data": {
            "text/plain": [
              "                        _id                    date  accel_x  accel_y  \\\n",
              "0  639a7a5d2f1ab8f42ac826c8 2022-12-15 10:37:33.724     0.03    -0.01   \n",
              "1  639a7a5e2f1ab8f42ac826ca 2022-12-15 10:37:34.233     0.03    -0.01   \n",
              "2  639a7a5e2f1ab8f42ac826cc 2022-12-15 10:37:34.742     0.03    -0.01   \n",
              "3  639a7a5f2f1ab8f42ac826ce 2022-12-15 10:37:35.251     0.03    -0.01   \n",
              "4  639a7a5f2f1ab8f42ac826d0 2022-12-15 10:37:35.760     0.03    -0.01   \n",
              "\n",
              "   accel_z  gyro_x  gyro_y  gyro_z  mag_x  mag_y  mag_z  __v  \n",
              "0     0.99   -0.18   -3.54   -0.31 -12.12  16.19 -42.16    0  \n",
              "1     0.99   -0.24   -3.60   -0.24 -11.82  16.52 -41.88    0  \n",
              "2     0.99   -0.06   -3.54   -0.24 -12.05  16.16 -41.75    0  \n",
              "3     0.99   -0.24   -3.48   -0.31 -12.06  16.21 -41.61    0  \n",
              "4     0.99   -0.24   -3.54   -0.31 -12.00  16.31 -42.70    0  "
            ],
            "text/html": [
              "\n",
              "  <div id=\"df-2436049d-64e2-41dd-bc10-b29cd18c566a\">\n",
              "    <div class=\"colab-df-container\">\n",
              "      <div>\n",
              "<style scoped>\n",
              "    .dataframe tbody tr th:only-of-type {\n",
              "        vertical-align: middle;\n",
              "    }\n",
              "\n",
              "    .dataframe tbody tr th {\n",
              "        vertical-align: top;\n",
              "    }\n",
              "\n",
              "    .dataframe thead th {\n",
              "        text-align: right;\n",
              "    }\n",
              "</style>\n",
              "<table border=\"1\" class=\"dataframe\">\n",
              "  <thead>\n",
              "    <tr style=\"text-align: right;\">\n",
              "      <th></th>\n",
              "      <th>_id</th>\n",
              "      <th>date</th>\n",
              "      <th>accel_x</th>\n",
              "      <th>accel_y</th>\n",
              "      <th>accel_z</th>\n",
              "      <th>gyro_x</th>\n",
              "      <th>gyro_y</th>\n",
              "      <th>gyro_z</th>\n",
              "      <th>mag_x</th>\n",
              "      <th>mag_y</th>\n",
              "      <th>mag_z</th>\n",
              "      <th>__v</th>\n",
              "    </tr>\n",
              "  </thead>\n",
              "  <tbody>\n",
              "    <tr>\n",
              "      <th>0</th>\n",
              "      <td>639a7a5d2f1ab8f42ac826c8</td>\n",
              "      <td>2022-12-15 10:37:33.724</td>\n",
              "      <td>0.03</td>\n",
              "      <td>-0.01</td>\n",
              "      <td>0.99</td>\n",
              "      <td>-0.18</td>\n",
              "      <td>-3.54</td>\n",
              "      <td>-0.31</td>\n",
              "      <td>-12.12</td>\n",
              "      <td>16.19</td>\n",
              "      <td>-42.16</td>\n",
              "      <td>0</td>\n",
              "    </tr>\n",
              "    <tr>\n",
              "      <th>1</th>\n",
              "      <td>639a7a5e2f1ab8f42ac826ca</td>\n",
              "      <td>2022-12-15 10:37:34.233</td>\n",
              "      <td>0.03</td>\n",
              "      <td>-0.01</td>\n",
              "      <td>0.99</td>\n",
              "      <td>-0.24</td>\n",
              "      <td>-3.60</td>\n",
              "      <td>-0.24</td>\n",
              "      <td>-11.82</td>\n",
              "      <td>16.52</td>\n",
              "      <td>-41.88</td>\n",
              "      <td>0</td>\n",
              "    </tr>\n",
              "    <tr>\n",
              "      <th>2</th>\n",
              "      <td>639a7a5e2f1ab8f42ac826cc</td>\n",
              "      <td>2022-12-15 10:37:34.742</td>\n",
              "      <td>0.03</td>\n",
              "      <td>-0.01</td>\n",
              "      <td>0.99</td>\n",
              "      <td>-0.06</td>\n",
              "      <td>-3.54</td>\n",
              "      <td>-0.24</td>\n",
              "      <td>-12.05</td>\n",
              "      <td>16.16</td>\n",
              "      <td>-41.75</td>\n",
              "      <td>0</td>\n",
              "    </tr>\n",
              "    <tr>\n",
              "      <th>3</th>\n",
              "      <td>639a7a5f2f1ab8f42ac826ce</td>\n",
              "      <td>2022-12-15 10:37:35.251</td>\n",
              "      <td>0.03</td>\n",
              "      <td>-0.01</td>\n",
              "      <td>0.99</td>\n",
              "      <td>-0.24</td>\n",
              "      <td>-3.48</td>\n",
              "      <td>-0.31</td>\n",
              "      <td>-12.06</td>\n",
              "      <td>16.21</td>\n",
              "      <td>-41.61</td>\n",
              "      <td>0</td>\n",
              "    </tr>\n",
              "    <tr>\n",
              "      <th>4</th>\n",
              "      <td>639a7a5f2f1ab8f42ac826d0</td>\n",
              "      <td>2022-12-15 10:37:35.760</td>\n",
              "      <td>0.03</td>\n",
              "      <td>-0.01</td>\n",
              "      <td>0.99</td>\n",
              "      <td>-0.24</td>\n",
              "      <td>-3.54</td>\n",
              "      <td>-0.31</td>\n",
              "      <td>-12.00</td>\n",
              "      <td>16.31</td>\n",
              "      <td>-42.70</td>\n",
              "      <td>0</td>\n",
              "    </tr>\n",
              "  </tbody>\n",
              "</table>\n",
              "</div>\n",
              "      <button class=\"colab-df-convert\" onclick=\"convertToInteractive('df-2436049d-64e2-41dd-bc10-b29cd18c566a')\"\n",
              "              title=\"Convert this dataframe to an interactive table.\"\n",
              "              style=\"display:none;\">\n",
              "        \n",
              "  <svg xmlns=\"http://www.w3.org/2000/svg\" height=\"24px\"viewBox=\"0 0 24 24\"\n",
              "       width=\"24px\">\n",
              "    <path d=\"M0 0h24v24H0V0z\" fill=\"none\"/>\n",
              "    <path d=\"M18.56 5.44l.94 2.06.94-2.06 2.06-.94-2.06-.94-.94-2.06-.94 2.06-2.06.94zm-11 1L8.5 8.5l.94-2.06 2.06-.94-2.06-.94L8.5 2.5l-.94 2.06-2.06.94zm10 10l.94 2.06.94-2.06 2.06-.94-2.06-.94-.94-2.06-.94 2.06-2.06.94z\"/><path d=\"M17.41 7.96l-1.37-1.37c-.4-.4-.92-.59-1.43-.59-.52 0-1.04.2-1.43.59L10.3 9.45l-7.72 7.72c-.78.78-.78 2.05 0 2.83L4 21.41c.39.39.9.59 1.41.59.51 0 1.02-.2 1.41-.59l7.78-7.78 2.81-2.81c.8-.78.8-2.07 0-2.86zM5.41 20L4 18.59l7.72-7.72 1.47 1.35L5.41 20z\"/>\n",
              "  </svg>\n",
              "      </button>\n",
              "      \n",
              "  <style>\n",
              "    .colab-df-container {\n",
              "      display:flex;\n",
              "      flex-wrap:wrap;\n",
              "      gap: 12px;\n",
              "    }\n",
              "\n",
              "    .colab-df-convert {\n",
              "      background-color: #E8F0FE;\n",
              "      border: none;\n",
              "      border-radius: 50%;\n",
              "      cursor: pointer;\n",
              "      display: none;\n",
              "      fill: #1967D2;\n",
              "      height: 32px;\n",
              "      padding: 0 0 0 0;\n",
              "      width: 32px;\n",
              "    }\n",
              "\n",
              "    .colab-df-convert:hover {\n",
              "      background-color: #E2EBFA;\n",
              "      box-shadow: 0px 1px 2px rgba(60, 64, 67, 0.3), 0px 1px 3px 1px rgba(60, 64, 67, 0.15);\n",
              "      fill: #174EA6;\n",
              "    }\n",
              "\n",
              "    [theme=dark] .colab-df-convert {\n",
              "      background-color: #3B4455;\n",
              "      fill: #D2E3FC;\n",
              "    }\n",
              "\n",
              "    [theme=dark] .colab-df-convert:hover {\n",
              "      background-color: #434B5C;\n",
              "      box-shadow: 0px 1px 3px 1px rgba(0, 0, 0, 0.15);\n",
              "      filter: drop-shadow(0px 1px 2px rgba(0, 0, 0, 0.3));\n",
              "      fill: #FFFFFF;\n",
              "    }\n",
              "  </style>\n",
              "\n",
              "      <script>\n",
              "        const buttonEl =\n",
              "          document.querySelector('#df-2436049d-64e2-41dd-bc10-b29cd18c566a button.colab-df-convert');\n",
              "        buttonEl.style.display =\n",
              "          google.colab.kernel.accessAllowed ? 'block' : 'none';\n",
              "\n",
              "        async function convertToInteractive(key) {\n",
              "          const element = document.querySelector('#df-2436049d-64e2-41dd-bc10-b29cd18c566a');\n",
              "          const dataTable =\n",
              "            await google.colab.kernel.invokeFunction('convertToInteractive',\n",
              "                                                     [key], {});\n",
              "          if (!dataTable) return;\n",
              "\n",
              "          const docLinkHtml = 'Like what you see? Visit the ' +\n",
              "            '<a target=\"_blank\" href=https://colab.research.google.com/notebooks/data_table.ipynb>data table notebook</a>'\n",
              "            + ' to learn more about interactive tables.';\n",
              "          element.innerHTML = '';\n",
              "          dataTable['output_type'] = 'display_data';\n",
              "          await google.colab.output.renderOutput(dataTable, element);\n",
              "          const docLink = document.createElement('div');\n",
              "          docLink.innerHTML = docLinkHtml;\n",
              "          element.appendChild(docLink);\n",
              "        }\n",
              "      </script>\n",
              "    </div>\n",
              "  </div>\n",
              "  "
            ]
          },
          "metadata": {},
          "execution_count": 30
        }
      ]
    },
    {
      "cell_type": "markdown",
      "metadata": {
        "id": "H5gtQbgCw62w"
      },
      "source": [
        "## New DataFrame : iot_data\n",
        "### Dataframe with date and ax,ay,az,gx,gy,gz,mx,my,mz"
      ]
    },
    {
      "cell_type": "markdown",
      "source": [
        "### [DIY-1] "
      ],
      "metadata": {
        "id": "Bk_q0zf6tuQ9"
      }
    },
    {
      "cell_type": "code",
      "metadata": {
        "id": "5VTfTsldfaGj"
      },
      "source": [
        "#  [DIY-1] select columns\n",
        "cols = ['date', 'accel_x','accel_y','accel_z','gyro_x','gyro_y','gyro_z','mag_x','mag_y','mag_z']"
      ],
      "execution_count": 31,
      "outputs": []
    },
    {
      "cell_type": "code",
      "metadata": {
        "id": "wLi8PDa_wly3"
      },
      "source": [
        "# Make iot data\n",
        "iot_data = df[cols]"
      ],
      "execution_count": 32,
      "outputs": []
    },
    {
      "cell_type": "code",
      "metadata": {
        "colab": {
          "base_uri": "https://localhost:8080/"
        },
        "id": "NWW0Y_Zswly8",
        "outputId": "28646ba9-22d1-429e-9d98-1dd4622289c2"
      },
      "source": [
        "iot_data.shape"
      ],
      "execution_count": 33,
      "outputs": [
        {
          "output_type": "execute_result",
          "data": {
            "text/plain": [
              "(31096, 10)"
            ]
          },
          "metadata": {},
          "execution_count": 33
        }
      ]
    },
    {
      "cell_type": "code",
      "metadata": {
        "colab": {
          "base_uri": "https://localhost:8080/",
          "height": 206
        },
        "id": "QrsngVb8wlzA",
        "outputId": "9b7551db-308e-4ed8-ecfc-6ac9679f48d1"
      },
      "source": [
        "iot_data.head()  # date와 9 개의 신호를 확인."
      ],
      "execution_count": 34,
      "outputs": [
        {
          "output_type": "execute_result",
          "data": {
            "text/plain": [
              "                     date  accel_x  accel_y  accel_z  gyro_x  gyro_y  gyro_z  \\\n",
              "0 2022-12-15 10:37:33.724     0.03    -0.01     0.99   -0.18   -3.54   -0.31   \n",
              "1 2022-12-15 10:37:34.233     0.03    -0.01     0.99   -0.24   -3.60   -0.24   \n",
              "2 2022-12-15 10:37:34.742     0.03    -0.01     0.99   -0.06   -3.54   -0.24   \n",
              "3 2022-12-15 10:37:35.251     0.03    -0.01     0.99   -0.24   -3.48   -0.31   \n",
              "4 2022-12-15 10:37:35.760     0.03    -0.01     0.99   -0.24   -3.54   -0.31   \n",
              "\n",
              "   mag_x  mag_y  mag_z  \n",
              "0 -12.12  16.19 -42.16  \n",
              "1 -11.82  16.52 -41.88  \n",
              "2 -12.05  16.16 -41.75  \n",
              "3 -12.06  16.21 -41.61  \n",
              "4 -12.00  16.31 -42.70  "
            ],
            "text/html": [
              "\n",
              "  <div id=\"df-1974cb29-e788-4c96-9ade-1472658d5d35\">\n",
              "    <div class=\"colab-df-container\">\n",
              "      <div>\n",
              "<style scoped>\n",
              "    .dataframe tbody tr th:only-of-type {\n",
              "        vertical-align: middle;\n",
              "    }\n",
              "\n",
              "    .dataframe tbody tr th {\n",
              "        vertical-align: top;\n",
              "    }\n",
              "\n",
              "    .dataframe thead th {\n",
              "        text-align: right;\n",
              "    }\n",
              "</style>\n",
              "<table border=\"1\" class=\"dataframe\">\n",
              "  <thead>\n",
              "    <tr style=\"text-align: right;\">\n",
              "      <th></th>\n",
              "      <th>date</th>\n",
              "      <th>accel_x</th>\n",
              "      <th>accel_y</th>\n",
              "      <th>accel_z</th>\n",
              "      <th>gyro_x</th>\n",
              "      <th>gyro_y</th>\n",
              "      <th>gyro_z</th>\n",
              "      <th>mag_x</th>\n",
              "      <th>mag_y</th>\n",
              "      <th>mag_z</th>\n",
              "    </tr>\n",
              "  </thead>\n",
              "  <tbody>\n",
              "    <tr>\n",
              "      <th>0</th>\n",
              "      <td>2022-12-15 10:37:33.724</td>\n",
              "      <td>0.03</td>\n",
              "      <td>-0.01</td>\n",
              "      <td>0.99</td>\n",
              "      <td>-0.18</td>\n",
              "      <td>-3.54</td>\n",
              "      <td>-0.31</td>\n",
              "      <td>-12.12</td>\n",
              "      <td>16.19</td>\n",
              "      <td>-42.16</td>\n",
              "    </tr>\n",
              "    <tr>\n",
              "      <th>1</th>\n",
              "      <td>2022-12-15 10:37:34.233</td>\n",
              "      <td>0.03</td>\n",
              "      <td>-0.01</td>\n",
              "      <td>0.99</td>\n",
              "      <td>-0.24</td>\n",
              "      <td>-3.60</td>\n",
              "      <td>-0.24</td>\n",
              "      <td>-11.82</td>\n",
              "      <td>16.52</td>\n",
              "      <td>-41.88</td>\n",
              "    </tr>\n",
              "    <tr>\n",
              "      <th>2</th>\n",
              "      <td>2022-12-15 10:37:34.742</td>\n",
              "      <td>0.03</td>\n",
              "      <td>-0.01</td>\n",
              "      <td>0.99</td>\n",
              "      <td>-0.06</td>\n",
              "      <td>-3.54</td>\n",
              "      <td>-0.24</td>\n",
              "      <td>-12.05</td>\n",
              "      <td>16.16</td>\n",
              "      <td>-41.75</td>\n",
              "    </tr>\n",
              "    <tr>\n",
              "      <th>3</th>\n",
              "      <td>2022-12-15 10:37:35.251</td>\n",
              "      <td>0.03</td>\n",
              "      <td>-0.01</td>\n",
              "      <td>0.99</td>\n",
              "      <td>-0.24</td>\n",
              "      <td>-3.48</td>\n",
              "      <td>-0.31</td>\n",
              "      <td>-12.06</td>\n",
              "      <td>16.21</td>\n",
              "      <td>-41.61</td>\n",
              "    </tr>\n",
              "    <tr>\n",
              "      <th>4</th>\n",
              "      <td>2022-12-15 10:37:35.760</td>\n",
              "      <td>0.03</td>\n",
              "      <td>-0.01</td>\n",
              "      <td>0.99</td>\n",
              "      <td>-0.24</td>\n",
              "      <td>-3.54</td>\n",
              "      <td>-0.31</td>\n",
              "      <td>-12.00</td>\n",
              "      <td>16.31</td>\n",
              "      <td>-42.70</td>\n",
              "    </tr>\n",
              "  </tbody>\n",
              "</table>\n",
              "</div>\n",
              "      <button class=\"colab-df-convert\" onclick=\"convertToInteractive('df-1974cb29-e788-4c96-9ade-1472658d5d35')\"\n",
              "              title=\"Convert this dataframe to an interactive table.\"\n",
              "              style=\"display:none;\">\n",
              "        \n",
              "  <svg xmlns=\"http://www.w3.org/2000/svg\" height=\"24px\"viewBox=\"0 0 24 24\"\n",
              "       width=\"24px\">\n",
              "    <path d=\"M0 0h24v24H0V0z\" fill=\"none\"/>\n",
              "    <path d=\"M18.56 5.44l.94 2.06.94-2.06 2.06-.94-2.06-.94-.94-2.06-.94 2.06-2.06.94zm-11 1L8.5 8.5l.94-2.06 2.06-.94-2.06-.94L8.5 2.5l-.94 2.06-2.06.94zm10 10l.94 2.06.94-2.06 2.06-.94-2.06-.94-.94-2.06-.94 2.06-2.06.94z\"/><path d=\"M17.41 7.96l-1.37-1.37c-.4-.4-.92-.59-1.43-.59-.52 0-1.04.2-1.43.59L10.3 9.45l-7.72 7.72c-.78.78-.78 2.05 0 2.83L4 21.41c.39.39.9.59 1.41.59.51 0 1.02-.2 1.41-.59l7.78-7.78 2.81-2.81c.8-.78.8-2.07 0-2.86zM5.41 20L4 18.59l7.72-7.72 1.47 1.35L5.41 20z\"/>\n",
              "  </svg>\n",
              "      </button>\n",
              "      \n",
              "  <style>\n",
              "    .colab-df-container {\n",
              "      display:flex;\n",
              "      flex-wrap:wrap;\n",
              "      gap: 12px;\n",
              "    }\n",
              "\n",
              "    .colab-df-convert {\n",
              "      background-color: #E8F0FE;\n",
              "      border: none;\n",
              "      border-radius: 50%;\n",
              "      cursor: pointer;\n",
              "      display: none;\n",
              "      fill: #1967D2;\n",
              "      height: 32px;\n",
              "      padding: 0 0 0 0;\n",
              "      width: 32px;\n",
              "    }\n",
              "\n",
              "    .colab-df-convert:hover {\n",
              "      background-color: #E2EBFA;\n",
              "      box-shadow: 0px 1px 2px rgba(60, 64, 67, 0.3), 0px 1px 3px 1px rgba(60, 64, 67, 0.15);\n",
              "      fill: #174EA6;\n",
              "    }\n",
              "\n",
              "    [theme=dark] .colab-df-convert {\n",
              "      background-color: #3B4455;\n",
              "      fill: #D2E3FC;\n",
              "    }\n",
              "\n",
              "    [theme=dark] .colab-df-convert:hover {\n",
              "      background-color: #434B5C;\n",
              "      box-shadow: 0px 1px 3px 1px rgba(0, 0, 0, 0.15);\n",
              "      filter: drop-shadow(0px 1px 2px rgba(0, 0, 0, 0.3));\n",
              "      fill: #FFFFFF;\n",
              "    }\n",
              "  </style>\n",
              "\n",
              "      <script>\n",
              "        const buttonEl =\n",
              "          document.querySelector('#df-1974cb29-e788-4c96-9ade-1472658d5d35 button.colab-df-convert');\n",
              "        buttonEl.style.display =\n",
              "          google.colab.kernel.accessAllowed ? 'block' : 'none';\n",
              "\n",
              "        async function convertToInteractive(key) {\n",
              "          const element = document.querySelector('#df-1974cb29-e788-4c96-9ade-1472658d5d35');\n",
              "          const dataTable =\n",
              "            await google.colab.kernel.invokeFunction('convertToInteractive',\n",
              "                                                     [key], {});\n",
              "          if (!dataTable) return;\n",
              "\n",
              "          const docLinkHtml = 'Like what you see? Visit the ' +\n",
              "            '<a target=\"_blank\" href=https://colab.research.google.com/notebooks/data_table.ipynb>data table notebook</a>'\n",
              "            + ' to learn more about interactive tables.';\n",
              "          element.innerHTML = '';\n",
              "          dataTable['output_type'] = 'display_data';\n",
              "          await google.colab.output.renderOutput(dataTable, element);\n",
              "          const docLink = document.createElement('div');\n",
              "          docLink.innerHTML = docLinkHtml;\n",
              "          element.appendChild(docLink);\n",
              "        }\n",
              "      </script>\n",
              "    </div>\n",
              "  </div>\n",
              "  "
            ]
          },
          "metadata": {},
          "execution_count": 34
        }
      ]
    },
    {
      "cell_type": "code",
      "metadata": {
        "colab": {
          "base_uri": "https://localhost:8080/"
        },
        "id": "ZI7ggvWpwlzG",
        "outputId": "8f1751a3-d484-4d0f-f021-3442a3db5f30"
      },
      "source": [
        "iot_data.info()"
      ],
      "execution_count": 35,
      "outputs": [
        {
          "output_type": "stream",
          "name": "stdout",
          "text": [
            "<class 'pandas.core.frame.DataFrame'>\n",
            "RangeIndex: 31096 entries, 0 to 31095\n",
            "Data columns (total 10 columns):\n",
            " #   Column   Non-Null Count  Dtype         \n",
            "---  ------   --------------  -----         \n",
            " 0   date     31096 non-null  datetime64[ns]\n",
            " 1   accel_x  31096 non-null  float64       \n",
            " 2   accel_y  31096 non-null  float64       \n",
            " 3   accel_z  31096 non-null  float64       \n",
            " 4   gyro_x   31096 non-null  float64       \n",
            " 5   gyro_y   31096 non-null  float64       \n",
            " 6   gyro_z   31096 non-null  float64       \n",
            " 7   mag_x    31096 non-null  float64       \n",
            " 8   mag_y    31096 non-null  float64       \n",
            " 9   mag_z    31096 non-null  float64       \n",
            "dtypes: datetime64[ns](1), float64(9)\n",
            "memory usage: 2.4 MB\n"
          ]
        }
      ]
    },
    {
      "cell_type": "code",
      "metadata": {
        "colab": {
          "base_uri": "https://localhost:8080/"
        },
        "id": "YlYSuLHMdX3_",
        "outputId": "283e9296-1acc-45b2-b4ae-769a4047dca6"
      },
      "source": [
        "iot_data.isna().sum()"
      ],
      "execution_count": 36,
      "outputs": [
        {
          "output_type": "execute_result",
          "data": {
            "text/plain": [
              "date       0\n",
              "accel_x    0\n",
              "accel_y    0\n",
              "accel_z    0\n",
              "gyro_x     0\n",
              "gyro_y     0\n",
              "gyro_z     0\n",
              "mag_x      0\n",
              "mag_y      0\n",
              "mag_z      0\n",
              "dtype: int64"
            ]
          },
          "metadata": {},
          "execution_count": 36
        }
      ]
    },
    {
      "cell_type": "code",
      "metadata": {
        "id": "sKH2MLA7lxjh"
      },
      "source": [
        "# Save iot data in csv file.\n",
        "iot_data.to_csv('iot_nano33imu_221215.csv')"
      ],
      "execution_count": 37,
      "outputs": []
    },
    {
      "cell_type": "markdown",
      "metadata": {
        "id": "tqGuXzIPfYbZ"
      },
      "source": [
        "## EDA (Exploratory Data Analysis, 탐색적 자료 분석) "
      ]
    },
    {
      "cell_type": "code",
      "metadata": {
        "colab": {
          "base_uri": "https://localhost:8080/",
          "height": 309
        },
        "id": "2QB6w7uvuN6R",
        "outputId": "cb59d72b-2b84-4c68-df21-1843c014df46"
      },
      "source": [
        "# Plot boxplot\n",
        "iot_data.iloc[:,1:].plot.box(title='Boxplot of all signals')\n",
        "plt.xticks(rotation=60)\n",
        "plt.show()"
      ],
      "execution_count": 38,
      "outputs": [
        {
          "output_type": "display_data",
          "data": {
            "text/plain": [
              "<Figure size 432x288 with 1 Axes>"
            ],
            "image/png": "[encoded data removed]"
          },
          "metadata": {
            "needs_background": "light"
          }
        }
      ]
    },
    {
      "cell_type": "markdown",
      "metadata": {
        "id": "feFqm_ocxRjV"
      },
      "source": [
        "### Plot time series of sensor data"
      ]
    },
    {
      "cell_type": "code",
      "metadata": {
        "colab": {
          "base_uri": "https://localhost:8080/",
          "height": 357
        },
        "id": "AM_CyVjawlzM",
        "outputId": "77196129-861e-4a85-a8bc-b7143bbffc59"
      },
      "source": [
        "iot_data.plot(x='date', y='accel_x', figsize=(10,5), title='Ax')\n",
        "plt.xticks(rotation=90)\n",
        "plt.show()"
      ],
      "execution_count": 39,
      "outputs": [
        {
          "output_type": "display_data",
          "data": {
            "text/plain": [
              "<Figure size 720x360 with 1 Axes>"
            ],
            "image/png": "[encoded data removed]"
          },
          "metadata": {
            "needs_background": "light"
          }
        }
      ]
    },
    {
      "cell_type": "code",
      "metadata": {
        "colab": {
          "base_uri": "https://localhost:8080/",
          "height": 357
        },
        "id": "MbaBO6uRKCjj",
        "outputId": "7753a0e1-ba84-42e8-d9aa-ea15bc4f2940"
      },
      "source": [
        "iot_data.plot(x='date', y='gyro_x', figsize=(10,5), title='Gx')\n",
        "plt.xticks(rotation=90)\n",
        "plt.show()"
      ],
      "execution_count": 40,
      "outputs": [
        {
          "output_type": "display_data",
          "data": {
            "text/plain": [
              "<Figure size 720x360 with 1 Axes>"
            ],
            "image/png": "[encoded data removed]"
          },
          "metadata": {
            "needs_background": "light"
          }
        }
      ]
    },
    {
      "cell_type": "markdown",
      "metadata": {
        "id": "4W2OVUXZ0eKc"
      },
      "source": [
        "#### 다중그래프 (multiple graphs)"
      ]
    },
    {
      "cell_type": "code",
      "metadata": {
        "colab": {
          "base_uri": "https://localhost:8080/",
          "height": 362
        },
        "id": "7XiF7ghFwlzc",
        "outputId": "378b2387-2c59-447e-b6d8-e8378323703e"
      },
      "source": [
        "# 3축 가속도를 아래에 그리시오.\n",
        "iot_data.plot(x='date', y=['accel_x','accel_y','accel_z'], figsize=(10,5), title='Ax, Ay, Az')"
      ],
      "execution_count": 41,
      "outputs": [
        {
          "output_type": "execute_result",
          "data": {
            "text/plain": [
              "<matplotlib.axes._subplots.AxesSubplot at 0x7fa410f0e310>"
            ]
          },
          "metadata": {},
          "execution_count": 41
        },
        {
          "output_type": "display_data",
          "data": {
            "text/plain": [
              "<Figure size 720x360 with 1 Axes>"
            ],
            "image/png": "[encoded data removed]"
          },
          "metadata": {
            "needs_background": "light"
          }
        }
      ]
    },
    {
      "cell_type": "markdown",
      "source": [
        "### [DIY-2] "
      ],
      "metadata": {
        "id": "vTrobcQvui61"
      }
    },
    {
      "cell_type": "code",
      "metadata": {
        "colab": {
          "base_uri": "https://localhost:8080/",
          "height": 362
        },
        "outputId": "810b73b4-2eae-470a-bd29-965c0aa9c485",
        "id": "VcaWhpJKvCIr"
      },
      "source": [
        "# 3축 자이로 신호를 아래에 그리시오.\n",
        "iot_data.plot(x='date', y = ['gyro_x','gyro_y','gyro_z'] , figsize=(10,5), title='Gx, Gy, Gz')"
      ],
      "execution_count": 42,
      "outputs": [
        {
          "output_type": "execute_result",
          "data": {
            "text/plain": [
              "<matplotlib.axes._subplots.AxesSubplot at 0x7fa40dafd1c0>"
            ]
          },
          "metadata": {},
          "execution_count": 42
        },
        {
          "output_type": "display_data",
          "data": {
            "text/plain": [
              "<Figure size 720x360 with 1 Axes>"
            ],
            "image/png": "[encoded data removed]"
          },
          "metadata": {
            "needs_background": "light"
          }
        }
      ]
    },
    {
      "cell_type": "markdown",
      "source": [
        "### [DIY-3] "
      ],
      "metadata": {
        "id": "DwG4n6g-wRN4"
      }
    },
    {
      "cell_type": "code",
      "metadata": {
        "colab": {
          "base_uri": "https://localhost:8080/",
          "height": 362
        },
        "outputId": "e61c6fa3-3b90-4199-9f38-256e48487f53",
        "id": "qbZXM16Vvbcv"
      },
      "source": [
        "# Ax, Gx,Mx 신호를 아래에 그리시오.\n",
        "iot_data.plot(x='date', y = ['accel_x','gyro_x','mag_z'], figsize=(10,5), title='Ax, Gx, Mx')"
      ],
      "execution_count": 43,
      "outputs": [
        {
          "output_type": "execute_result",
          "data": {
            "text/plain": [
              "<matplotlib.axes._subplots.AxesSubplot at 0x7fa41038ec70>"
            ]
          },
          "metadata": {},
          "execution_count": 43
        },
        {
          "output_type": "display_data",
          "data": {
            "text/plain": [
              "<Figure size 720x360 with 1 Axes>"
            ],
            "image/png": "[encoded data removed]"
          },
          "metadata": {
            "needs_background": "light"
          }
        }
      ]
    },
    {
      "cell_type": "markdown",
      "metadata": {
        "id": "6yaOaE05xthv"
      },
      "source": [
        "### Plot the mean of sensor data\n",
        "### [DIY-4] 아래 코드를 참조해서 Az,Gz,Mz의 평균을 구하고 막대 그래프로 그리시오."
      ]
    },
    {
      "cell_type": "code",
      "metadata": {
        "colab": {
          "base_uri": "https://localhost:8080/"
        },
        "id": "455qOpbbwlzp",
        "outputId": "7fa9a61a-13bc-4cfc-9468-1d99545caefb"
      },
      "source": [
        "iot_data[['accel_z','gyro_z','mag_z']].mean()  "
      ],
      "execution_count": 44,
      "outputs": [
        {
          "output_type": "execute_result",
          "data": {
            "text/plain": [
              "accel_z     0.939688\n",
              "gyro_z     -0.305585\n",
              "mag_z     -50.845903\n",
              "dtype: float64"
            ]
          },
          "metadata": {},
          "execution_count": 44
        }
      ]
    },
    {
      "cell_type": "code",
      "metadata": {
        "colab": {
          "base_uri": "https://localhost:8080/",
          "height": 380
        },
        "id": "26ZUc5ULwlzw",
        "outputId": "0d7d8c63-1fac-409a-8a9d-592479a87e12"
      },
      "source": [
        "iot_data[['accel_z','gyro_z','mag_z']].mean().plot.bar(figsize=(8,5), \n",
        "                                                                  title=\"Mean of temperature, humidity, and luminosity\")"
      ],
      "execution_count": 45,
      "outputs": [
        {
          "output_type": "execute_result",
          "data": {
            "text/plain": [
              "<matplotlib.axes._subplots.AxesSubplot at 0x7fa410fc5400>"
            ]
          },
          "metadata": {},
          "execution_count": 45
        },
        {
          "output_type": "display_data",
          "data": {
            "text/plain": [
              "<Figure size 576x360 with 1 Axes>"
            ],
            "image/png": "[encoded data removed]"
          },
          "metadata": {
            "needs_background": "light"
          }
        }
      ]
    },
    {
      "cell_type": "markdown",
      "metadata": {
        "id": "DwAOwL1kdEUn"
      },
      "source": [
        "# Advanced graphics using pandas"
      ]
    },
    {
      "cell_type": "markdown",
      "metadata": {
        "id": "LxgcWZ2wx6TQ"
      },
      "source": [
        "### Plot the change of sensor data over various time spans.\n",
        "\n",
        "> time span: 60 sec, 1 hour, 1 day, $\\cdots$"
      ]
    },
    {
      "cell_type": "code",
      "metadata": {
        "id": "xopxI05ggHJb",
        "colab": {
          "base_uri": "https://localhost:8080/",
          "height": 206
        },
        "outputId": "5b00f422-fff1-40b1-dabc-8fdc2427637e"
      },
      "source": [
        "iot_data.head()"
      ],
      "execution_count": 46,
      "outputs": [
        {
          "output_type": "execute_result",
          "data": {
            "text/plain": [
              "                     date  accel_x  accel_y  accel_z  gyro_x  gyro_y  gyro_z  \\\n",
              "0 2022-12-15 10:37:33.724     0.03    -0.01     0.99   -0.18   -3.54   -0.31   \n",
              "1 2022-12-15 10:37:34.233     0.03    -0.01     0.99   -0.24   -3.60   -0.24   \n",
              "2 2022-12-15 10:37:34.742     0.03    -0.01     0.99   -0.06   -3.54   -0.24   \n",
              "3 2022-12-15 10:37:35.251     0.03    -0.01     0.99   -0.24   -3.48   -0.31   \n",
              "4 2022-12-15 10:37:35.760     0.03    -0.01     0.99   -0.24   -3.54   -0.31   \n",
              "\n",
              "   mag_x  mag_y  mag_z  \n",
              "0 -12.12  16.19 -42.16  \n",
              "1 -11.82  16.52 -41.88  \n",
              "2 -12.05  16.16 -41.75  \n",
              "3 -12.06  16.21 -41.61  \n",
              "4 -12.00  16.31 -42.70  "
            ],
            "text/html": [
              "\n",
              "  <div id=\"df-13715abc-274d-43ff-8e56-4f17f7cfe91d\">\n",
              "    <div class=\"colab-df-container\">\n",
              "      <div>\n",
              "<style scoped>\n",
              "    .dataframe tbody tr th:only-of-type {\n",
              "        vertical-align: middle;\n",
              "    }\n",
              "\n",
              "    .dataframe tbody tr th {\n",
              "        vertical-align: top;\n",
              "    }\n",
              "\n",
              "    .dataframe thead th {\n",
              "        text-align: right;\n",
              "    }\n",
              "</style>\n",
              "<table border=\"1\" class=\"dataframe\">\n",
              "  <thead>\n",
              "    <tr style=\"text-align: right;\">\n",
              "      <th></th>\n",
              "      <th>date</th>\n",
              "      <th>accel_x</th>\n",
              "      <th>accel_y</th>\n",
              "      <th>accel_z</th>\n",
              "      <th>gyro_x</th>\n",
              "      <th>gyro_y</th>\n",
              "      <th>gyro_z</th>\n",
              "      <th>mag_x</th>\n",
              "      <th>mag_y</th>\n",
              "      <th>mag_z</th>\n",
              "    </tr>\n",
              "  </thead>\n",
              "  <tbody>\n",
              "    <tr>\n",
              "      <th>0</th>\n",
              "      <td>2022-12-15 10:37:33.724</td>\n",
              "      <td>0.03</td>\n",
              "      <td>-0.01</td>\n",
              "      <td>0.99</td>\n",
              "      <td>-0.18</td>\n",
              "      <td>-3.54</td>\n",
              "      <td>-0.31</td>\n",
              "      <td>-12.12</td>\n",
              "      <td>16.19</td>\n",
              "      <td>-42.16</td>\n",
              "    </tr>\n",
              "    <tr>\n",
              "      <th>1</th>\n",
              "      <td>2022-12-15 10:37:34.233</td>\n",
              "      <td>0.03</td>\n",
              "      <td>-0.01</td>\n",
              "      <td>0.99</td>\n",
              "      <td>-0.24</td>\n",
              "      <td>-3.60</td>\n",
              "      <td>-0.24</td>\n",
              "      <td>-11.82</td>\n",
              "      <td>16.52</td>\n",
              "      <td>-41.88</td>\n",
              "    </tr>\n",
              "    <tr>\n",
              "      <th>2</th>\n",
              "      <td>2022-12-15 10:37:34.742</td>\n",
              "      <td>0.03</td>\n",
              "      <td>-0.01</td>\n",
              "      <td>0.99</td>\n",
              "      <td>-0.06</td>\n",
              "      <td>-3.54</td>\n",
              "      <td>-0.24</td>\n",
              "      <td>-12.05</td>\n",
              "      <td>16.16</td>\n",
              "      <td>-41.75</td>\n",
              "    </tr>\n",
              "    <tr>\n",
              "      <th>3</th>\n",
              "      <td>2022-12-15 10:37:35.251</td>\n",
              "      <td>0.03</td>\n",
              "      <td>-0.01</td>\n",
              "      <td>0.99</td>\n",
              "      <td>-0.24</td>\n",
              "      <td>-3.48</td>\n",
              "      <td>-0.31</td>\n",
              "      <td>-12.06</td>\n",
              "      <td>16.21</td>\n",
              "      <td>-41.61</td>\n",
              "    </tr>\n",
              "    <tr>\n",
              "      <th>4</th>\n",
              "      <td>2022-12-15 10:37:35.760</td>\n",
              "      <td>0.03</td>\n",
              "      <td>-0.01</td>\n",
              "      <td>0.99</td>\n",
              "      <td>-0.24</td>\n",
              "      <td>-3.54</td>\n",
              "      <td>-0.31</td>\n",
              "      <td>-12.00</td>\n",
              "      <td>16.31</td>\n",
              "      <td>-42.70</td>\n",
              "    </tr>\n",
              "  </tbody>\n",
              "</table>\n",
              "</div>\n",
              "      <button class=\"colab-df-convert\" onclick=\"convertToInteractive('df-13715abc-274d-43ff-8e56-4f17f7cfe91d')\"\n",
              "              title=\"Convert this dataframe to an interactive table.\"\n",
              "              style=\"display:none;\">\n",
              "        \n",
              "  <svg xmlns=\"http://www.w3.org/2000/svg\" height=\"24px\"viewBox=\"0 0 24 24\"\n",
              "       width=\"24px\">\n",
              "    <path d=\"M0 0h24v24H0V0z\" fill=\"none\"/>\n",
              "    <path d=\"M18.56 5.44l.94 2.06.94-2.06 2.06-.94-2.06-.94-.94-2.06-.94 2.06-2.06.94zm-11 1L8.5 8.5l.94-2.06 2.06-.94-2.06-.94L8.5 2.5l-.94 2.06-2.06.94zm10 10l.94 2.06.94-2.06 2.06-.94-2.06-.94-.94-2.06-.94 2.06-2.06.94z\"/><path d=\"M17.41 7.96l-1.37-1.37c-.4-.4-.92-.59-1.43-.59-.52 0-1.04.2-1.43.59L10.3 9.45l-7.72 7.72c-.78.78-.78 2.05 0 2.83L4 21.41c.39.39.9.59 1.41.59.51 0 1.02-.2 1.41-.59l7.78-7.78 2.81-2.81c.8-.78.8-2.07 0-2.86zM5.41 20L4 18.59l7.72-7.72 1.47 1.35L5.41 20z\"/>\n",
              "  </svg>\n",
              "      </button>\n",
              "      \n",
              "  <style>\n",
              "    .colab-df-container {\n",
              "      display:flex;\n",
              "      flex-wrap:wrap;\n",
              "      gap: 12px;\n",
              "    }\n",
              "\n",
              "    .colab-df-convert {\n",
              "      background-color: #E8F0FE;\n",
              "      border: none;\n",
              "      border-radius: 50%;\n",
              "      cursor: pointer;\n",
              "      display: none;\n",
              "      fill: #1967D2;\n",
              "      height: 32px;\n",
              "      padding: 0 0 0 0;\n",
              "      width: 32px;\n",
              "    }\n",
              "\n",
              "    .colab-df-convert:hover {\n",
              "      background-color: #E2EBFA;\n",
              "      box-shadow: 0px 1px 2px rgba(60, 64, 67, 0.3), 0px 1px 3px 1px rgba(60, 64, 67, 0.15);\n",
              "      fill: #174EA6;\n",
              "    }\n",
              "\n",
              "    [theme=dark] .colab-df-convert {\n",
              "      background-color: #3B4455;\n",
              "      fill: #D2E3FC;\n",
              "    }\n",
              "\n",
              "    [theme=dark] .colab-df-convert:hover {\n",
              "      background-color: #434B5C;\n",
              "      box-shadow: 0px 1px 3px 1px rgba(0, 0, 0, 0.15);\n",
              "      filter: drop-shadow(0px 1px 2px rgba(0, 0, 0, 0.3));\n",
              "      fill: #FFFFFF;\n",
              "    }\n",
              "  </style>\n",
              "\n",
              "      <script>\n",
              "        const buttonEl =\n",
              "          document.querySelector('#df-13715abc-274d-43ff-8e56-4f17f7cfe91d button.colab-df-convert');\n",
              "        buttonEl.style.display =\n",
              "          google.colab.kernel.accessAllowed ? 'block' : 'none';\n",
              "\n",
              "        async function convertToInteractive(key) {\n",
              "          const element = document.querySelector('#df-13715abc-274d-43ff-8e56-4f17f7cfe91d');\n",
              "          const dataTable =\n",
              "            await google.colab.kernel.invokeFunction('convertToInteractive',\n",
              "                                                     [key], {});\n",
              "          if (!dataTable) return;\n",
              "\n",
              "          const docLinkHtml = 'Like what you see? Visit the ' +\n",
              "            '<a target=\"_blank\" href=https://colab.research.google.com/notebooks/data_table.ipynb>data table notebook</a>'\n",
              "            + ' to learn more about interactive tables.';\n",
              "          element.innerHTML = '';\n",
              "          dataTable['output_type'] = 'display_data';\n",
              "          await google.colab.output.renderOutput(dataTable, element);\n",
              "          const docLink = document.createElement('div');\n",
              "          docLink.innerHTML = docLinkHtml;\n",
              "          element.appendChild(docLink);\n",
              "        }\n",
              "      </script>\n",
              "    </div>\n",
              "  </div>\n",
              "  "
            ]
          },
          "metadata": {},
          "execution_count": 46
        }
      ]
    },
    {
      "cell_type": "markdown",
      "metadata": {
        "id": "ndt4b_ZTwlz1"
      },
      "source": [
        "#### Set date as index of timestamp"
      ]
    },
    {
      "cell_type": "code",
      "metadata": {
        "id": "V6MpkrDhwlz2"
      },
      "source": [
        "iot_data.set_index('date',inplace=True)"
      ],
      "execution_count": 47,
      "outputs": []
    },
    {
      "cell_type": "code",
      "metadata": {
        "colab": {
          "base_uri": "https://localhost:8080/",
          "height": 238
        },
        "id": "w9ztE8jDUAta",
        "outputId": "e7409632-1ef9-46c4-e8e7-c5e96c78515d"
      },
      "source": [
        "iot_data.head()"
      ],
      "execution_count": 48,
      "outputs": [
        {
          "output_type": "execute_result",
          "data": {
            "text/plain": [
              "                         accel_x  accel_y  accel_z  gyro_x  gyro_y  gyro_z  \\\n",
              "date                                                                         \n",
              "2022-12-15 10:37:33.724     0.03    -0.01     0.99   -0.18   -3.54   -0.31   \n",
              "2022-12-15 10:37:34.233     0.03    -0.01     0.99   -0.24   -3.60   -0.24   \n",
              "2022-12-15 10:37:34.742     0.03    -0.01     0.99   -0.06   -3.54   -0.24   \n",
              "2022-12-15 10:37:35.251     0.03    -0.01     0.99   -0.24   -3.48   -0.31   \n",
              "2022-12-15 10:37:35.760     0.03    -0.01     0.99   -0.24   -3.54   -0.31   \n",
              "\n",
              "                         mag_x  mag_y  mag_z  \n",
              "date                                          \n",
              "2022-12-15 10:37:33.724 -12.12  16.19 -42.16  \n",
              "2022-12-15 10:37:34.233 -11.82  16.52 -41.88  \n",
              "2022-12-15 10:37:34.742 -12.05  16.16 -41.75  \n",
              "2022-12-15 10:37:35.251 -12.06  16.21 -41.61  \n",
              "2022-12-15 10:37:35.760 -12.00  16.31 -42.70  "
            ],
            "text/html": [
              "\n",
              "  <div id=\"df-0e3af08b-f570-4107-8f17-67ecab9a20ae\">\n",
              "    <div class=\"colab-df-container\">\n",
              "      <div>\n",
              "<style scoped>\n",
              "    .dataframe tbody tr th:only-of-type {\n",
              "        vertical-align: middle;\n",
              "    }\n",
              "\n",
              "    .dataframe tbody tr th {\n",
              "        vertical-align: top;\n",
              "    }\n",
              "\n",
              "    .dataframe thead th {\n",
              "        text-align: right;\n",
              "    }\n",
              "</style>\n",
              "<table border=\"1\" class=\"dataframe\">\n",
              "  <thead>\n",
              "    <tr style=\"text-align: right;\">\n",
              "      <th></th>\n",
              "      <th>accel_x</th>\n",
              "      <th>accel_y</th>\n",
              "      <th>accel_z</th>\n",
              "      <th>gyro_x</th>\n",
              "      <th>gyro_y</th>\n",
              "      <th>gyro_z</th>\n",
              "      <th>mag_x</th>\n",
              "      <th>mag_y</th>\n",
              "      <th>mag_z</th>\n",
              "    </tr>\n",
              "    <tr>\n",
              "      <th>date</th>\n",
              "      <th></th>\n",
              "      <th></th>\n",
              "      <th></th>\n",
              "      <th></th>\n",
              "      <th></th>\n",
              "      <th></th>\n",
              "      <th></th>\n",
              "      <th></th>\n",
              "      <th></th>\n",
              "    </tr>\n",
              "  </thead>\n",
              "  <tbody>\n",
              "    <tr>\n",
              "      <th>2022-12-15 10:37:33.724</th>\n",
              "      <td>0.03</td>\n",
              "      <td>-0.01</td>\n",
              "      <td>0.99</td>\n",
              "      <td>-0.18</td>\n",
              "      <td>-3.54</td>\n",
              "      <td>-0.31</td>\n",
              "      <td>-12.12</td>\n",
              "      <td>16.19</td>\n",
              "      <td>-42.16</td>\n",
              "    </tr>\n",
              "    <tr>\n",
              "      <th>2022-12-15 10:37:34.233</th>\n",
              "      <td>0.03</td>\n",
              "      <td>-0.01</td>\n",
              "      <td>0.99</td>\n",
              "      <td>-0.24</td>\n",
              "      <td>-3.60</td>\n",
              "      <td>-0.24</td>\n",
              "      <td>-11.82</td>\n",
              "      <td>16.52</td>\n",
              "      <td>-41.88</td>\n",
              "    </tr>\n",
              "    <tr>\n",
              "      <th>2022-12-15 10:37:34.742</th>\n",
              "      <td>0.03</td>\n",
              "      <td>-0.01</td>\n",
              "      <td>0.99</td>\n",
              "      <td>-0.06</td>\n",
              "      <td>-3.54</td>\n",
              "      <td>-0.24</td>\n",
              "      <td>-12.05</td>\n",
              "      <td>16.16</td>\n",
              "      <td>-41.75</td>\n",
              "    </tr>\n",
              "    <tr>\n",
              "      <th>2022-12-15 10:37:35.251</th>\n",
              "      <td>0.03</td>\n",
              "      <td>-0.01</td>\n",
              "      <td>0.99</td>\n",
              "      <td>-0.24</td>\n",
              "      <td>-3.48</td>\n",
              "      <td>-0.31</td>\n",
              "      <td>-12.06</td>\n",
              "      <td>16.21</td>\n",
              "      <td>-41.61</td>\n",
              "    </tr>\n",
              "    <tr>\n",
              "      <th>2022-12-15 10:37:35.760</th>\n",
              "      <td>0.03</td>\n",
              "      <td>-0.01</td>\n",
              "      <td>0.99</td>\n",
              "      <td>-0.24</td>\n",
              "      <td>-3.54</td>\n",
              "      <td>-0.31</td>\n",
              "      <td>-12.00</td>\n",
              "      <td>16.31</td>\n",
              "      <td>-42.70</td>\n",
              "    </tr>\n",
              "  </tbody>\n",
              "</table>\n",
              "</div>\n",
              "      <button class=\"colab-df-convert\" onclick=\"convertToInteractive('df-0e3af08b-f570-4107-8f17-67ecab9a20ae')\"\n",
              "              title=\"Convert this dataframe to an interactive table.\"\n",
              "              style=\"display:none;\">\n",
              "        \n",
              "  <svg xmlns=\"http://www.w3.org/2000/svg\" height=\"24px\"viewBox=\"0 0 24 24\"\n",
              "       width=\"24px\">\n",
              "    <path d=\"M0 0h24v24H0V0z\" fill=\"none\"/>\n",
              "    <path d=\"M18.56 5.44l.94 2.06.94-2.06 2.06-.94-2.06-.94-.94-2.06-.94 2.06-2.06.94zm-11 1L8.5 8.5l.94-2.06 2.06-.94-2.06-.94L8.5 2.5l-.94 2.06-2.06.94zm10 10l.94 2.06.94-2.06 2.06-.94-2.06-.94-.94-2.06-.94 2.06-2.06.94z\"/><path d=\"M17.41 7.96l-1.37-1.37c-.4-.4-.92-.59-1.43-.59-.52 0-1.04.2-1.43.59L10.3 9.45l-7.72 7.72c-.78.78-.78 2.05 0 2.83L4 21.41c.39.39.9.59 1.41.59.51 0 1.02-.2 1.41-.59l7.78-7.78 2.81-2.81c.8-.78.8-2.07 0-2.86zM5.41 20L4 18.59l7.72-7.72 1.47 1.35L5.41 20z\"/>\n",
              "  </svg>\n",
              "      </button>\n",
              "      \n",
              "  <style>\n",
              "    .colab-df-container {\n",
              "      display:flex;\n",
              "      flex-wrap:wrap;\n",
              "      gap: 12px;\n",
              "    }\n",
              "\n",
              "    .colab-df-convert {\n",
              "      background-color: #E8F0FE;\n",
              "      border: none;\n",
              "      border-radius: 50%;\n",
              "      cursor: pointer;\n",
              "      display: none;\n",
              "      fill: #1967D2;\n",
              "      height: 32px;\n",
              "      padding: 0 0 0 0;\n",
              "      width: 32px;\n",
              "    }\n",
              "\n",
              "    .colab-df-convert:hover {\n",
              "      background-color: #E2EBFA;\n",
              "      box-shadow: 0px 1px 2px rgba(60, 64, 67, 0.3), 0px 1px 3px 1px rgba(60, 64, 67, 0.15);\n",
              "      fill: #174EA6;\n",
              "    }\n",
              "\n",
              "    [theme=dark] .colab-df-convert {\n",
              "      background-color: #3B4455;\n",
              "      fill: #D2E3FC;\n",
              "    }\n",
              "\n",
              "    [theme=dark] .colab-df-convert:hover {\n",
              "      background-color: #434B5C;\n",
              "      box-shadow: 0px 1px 3px 1px rgba(0, 0, 0, 0.15);\n",
              "      filter: drop-shadow(0px 1px 2px rgba(0, 0, 0, 0.3));\n",
              "      fill: #FFFFFF;\n",
              "    }\n",
              "  </style>\n",
              "\n",
              "      <script>\n",
              "        const buttonEl =\n",
              "          document.querySelector('#df-0e3af08b-f570-4107-8f17-67ecab9a20ae button.colab-df-convert');\n",
              "        buttonEl.style.display =\n",
              "          google.colab.kernel.accessAllowed ? 'block' : 'none';\n",
              "\n",
              "        async function convertToInteractive(key) {\n",
              "          const element = document.querySelector('#df-0e3af08b-f570-4107-8f17-67ecab9a20ae');\n",
              "          const dataTable =\n",
              "            await google.colab.kernel.invokeFunction('convertToInteractive',\n",
              "                                                     [key], {});\n",
              "          if (!dataTable) return;\n",
              "\n",
              "          const docLinkHtml = 'Like what you see? Visit the ' +\n",
              "            '<a target=\"_blank\" href=https://colab.research.google.com/notebooks/data_table.ipynb>data table notebook</a>'\n",
              "            + ' to learn more about interactive tables.';\n",
              "          element.innerHTML = '';\n",
              "          dataTable['output_type'] = 'display_data';\n",
              "          await google.colab.output.renderOutput(dataTable, element);\n",
              "          const docLink = document.createElement('div');\n",
              "          docLink.innerHTML = docLinkHtml;\n",
              "          element.appendChild(docLink);\n",
              "        }\n",
              "      </script>\n",
              "    </div>\n",
              "  </div>\n",
              "  "
            ]
          },
          "metadata": {},
          "execution_count": 48
        }
      ]
    },
    {
      "cell_type": "code",
      "metadata": {
        "colab": {
          "base_uri": "https://localhost:8080/"
        },
        "id": "HR2XersJUIH2",
        "outputId": "80d535fd-c1e2-4fdc-c2c7-914c1ea789b8"
      },
      "source": [
        "iot_data.info()"
      ],
      "execution_count": 49,
      "outputs": [
        {
          "output_type": "stream",
          "name": "stdout",
          "text": [
            "<class 'pandas.core.frame.DataFrame'>\n",
            "DatetimeIndex: 31096 entries, 2022-12-15 10:37:33.724000 to 2022-12-15 15:02:15.657000\n",
            "Data columns (total 9 columns):\n",
            " #   Column   Non-Null Count  Dtype  \n",
            "---  ------   --------------  -----  \n",
            " 0   accel_x  31096 non-null  float64\n",
            " 1   accel_y  31096 non-null  float64\n",
            " 2   accel_z  31096 non-null  float64\n",
            " 3   gyro_x   31096 non-null  float64\n",
            " 4   gyro_y   31096 non-null  float64\n",
            " 5   gyro_z   31096 non-null  float64\n",
            " 6   mag_x    31096 non-null  float64\n",
            " 7   mag_y    31096 non-null  float64\n",
            " 8   mag_z    31096 non-null  float64\n",
            "dtypes: float64(9)\n",
            "memory usage: 2.4 MB\n"
          ]
        }
      ]
    },
    {
      "cell_type": "code",
      "metadata": {
        "id": "g1MtmghfiQk7"
      },
      "source": [
        "# Convert date index to Datetime index, 중요!!!\n",
        "iot_data.index = pd.to_datetime(iot_data.index)"
      ],
      "execution_count": 50,
      "outputs": []
    },
    {
      "cell_type": "code",
      "metadata": {
        "colab": {
          "base_uri": "https://localhost:8080/"
        },
        "id": "gY7QvLKbwlz5",
        "outputId": "4c81f45d-dc62-4877-d1df-322b2045d36c"
      },
      "source": [
        "iot_data.info() # Range index -> timestamp(Datetime) index "
      ],
      "execution_count": 51,
      "outputs": [
        {
          "output_type": "stream",
          "name": "stdout",
          "text": [
            "<class 'pandas.core.frame.DataFrame'>\n",
            "DatetimeIndex: 31096 entries, 2022-12-15 10:37:33.724000 to 2022-12-15 15:02:15.657000\n",
            "Data columns (total 9 columns):\n",
            " #   Column   Non-Null Count  Dtype  \n",
            "---  ------   --------------  -----  \n",
            " 0   accel_x  31096 non-null  float64\n",
            " 1   accel_y  31096 non-null  float64\n",
            " 2   accel_z  31096 non-null  float64\n",
            " 3   gyro_x   31096 non-null  float64\n",
            " 4   gyro_y   31096 non-null  float64\n",
            " 5   gyro_z   31096 non-null  float64\n",
            " 6   mag_x    31096 non-null  float64\n",
            " 7   mag_y    31096 non-null  float64\n",
            " 8   mag_z    31096 non-null  float64\n",
            "dtypes: float64(9)\n",
            "memory usage: 2.4 MB\n"
          ]
        }
      ]
    },
    {
      "cell_type": "code",
      "metadata": {
        "colab": {
          "base_uri": "https://localhost:8080/",
          "height": 673
        },
        "id": "TDkJgBRJwl0D",
        "outputId": "dabc13ab-96be-4cb6-fd05-44a1746a5dd5"
      },
      "source": [
        "# Estimate the mean of the iot data for every minute\n",
        "iot_data.resample('60S').mean()"
      ],
      "execution_count": 52,
      "outputs": [
        {
          "output_type": "execute_result",
          "data": {
            "text/plain": [
              "                      accel_x   accel_y   accel_z     gyro_x     gyro_y  \\\n",
              "date                                                                      \n",
              "2022-12-15 10:37:00  0.030000 -0.010000  0.990000  -0.209808  -3.557308   \n",
              "2022-12-15 10:38:00 -0.188898 -0.413898  0.164322  13.618898   6.464746   \n",
              "2022-12-15 10:39:00 -1.056949  0.154237  0.225932  -8.265424 -25.913983   \n",
              "2022-12-15 10:40:00 -0.502119  0.141186  0.332542  15.531525  11.551102   \n",
              "2022-12-15 10:41:00 -0.499322  0.028136  0.655424  -5.107034   5.616356   \n",
              "...                       ...       ...       ...        ...        ...   \n",
              "2022-12-15 14:58:00  0.032797 -0.002627  0.990000  -0.253475  -3.558220   \n",
              "2022-12-15 14:59:00  0.032881 -0.003051  0.990000  -0.257119  -3.572627   \n",
              "2022-12-15 15:00:00  0.033729 -0.003475  0.990085  -0.277797  -3.575085   \n",
              "2022-12-15 15:01:00  0.033305 -0.002542  0.990000  -0.268559  -3.526695   \n",
              "2022-12-15 15:02:00  0.032903 -0.004194  0.990000  -0.265484  -3.514839   \n",
              "\n",
              "                        gyro_z      mag_x      mag_y      mag_z  \n",
              "date                                                             \n",
              "2022-12-15 10:37:00  -0.279423 -11.958846  16.287692 -42.217885  \n",
              "2022-12-15 10:38:00  12.954153   2.220085  23.822458 -11.327034  \n",
              "2022-12-15 10:39:00 -26.685678 -11.120339   8.269661 -19.876525  \n",
              "2022-12-15 10:40:00 -14.099915  -4.763475  -1.187881 -22.533136  \n",
              "2022-12-15 10:41:00  -5.345508   6.075254   0.390000 -29.213475  \n",
              "...                        ...        ...        ...        ...  \n",
              "2022-12-15 14:58:00  -0.282119 -11.703390  -1.788220 -55.315763  \n",
              "2022-12-15 14:59:00  -0.267458 -11.624746  -1.819661 -55.278644  \n",
              "2022-12-15 15:00:00  -0.313475 -11.786864  -1.927373 -55.156525  \n",
              "2022-12-15 15:01:00  -0.301525 -11.683220  -1.796949 -55.048729  \n",
              "2022-12-15 15:02:00  -0.278065 -11.792581  -1.798710 -54.942258  \n",
              "\n",
              "[266 rows x 9 columns]"
            ],
            "text/html": [
              "\n",
              "  <div id=\"df-5c6d1edd-7227-4124-9801-43567421ebac\">\n",
              "    <div class=\"colab-df-container\">\n",
              "      <div>\n",
              "<style scoped>\n",
              "    .dataframe tbody tr th:only-of-type {\n",
              "        vertical-align: middle;\n",
              "    }\n",
              "\n",
              "    .dataframe tbody tr th {\n",
              "        vertical-align: top;\n",
              "    }\n",
              "\n",
              "    .dataframe thead th {\n",
              "        text-align: right;\n",
              "    }\n",
              "</style>\n",
              "<table border=\"1\" class=\"dataframe\">\n",
              "  <thead>\n",
              "    <tr style=\"text-align: right;\">\n",
              "      <th></th>\n",
              "      <th>accel_x</th>\n",
              "      <th>accel_y</th>\n",
              "      <th>accel_z</th>\n",
              "      <th>gyro_x</th>\n",
              "      <th>gyro_y</th>\n",
              "      <th>gyro_z</th>\n",
              "      <th>mag_x</th>\n",
              "      <th>mag_y</th>\n",
              "      <th>mag_z</th>\n",
              "    </tr>\n",
              "    <tr>\n",
              "      <th>date</th>\n",
              "      <th></th>\n",
              "      <th></th>\n",
              "      <th></th>\n",
              "      <th></th>\n",
              "      <th></th>\n",
              "      <th></th>\n",
              "      <th></th>\n",
              "      <th></th>\n",
              "      <th></th>\n",
              "    </tr>\n",
              "  </thead>\n",
              "  <tbody>\n",
              "    <tr>\n",
              "      <th>2022-12-15 10:37:00</th>\n",
              "      <td>0.030000</td>\n",
              "      <td>-0.010000</td>\n",
              "      <td>0.990000</td>\n",
              "      <td>-0.209808</td>\n",
              "      <td>-3.557308</td>\n",
              "      <td>-0.279423</td>\n",
              "      <td>-11.958846</td>\n",
              "      <td>16.287692</td>\n",
              "      <td>-42.217885</td>\n",
              "    </tr>\n",
              "    <tr>\n",
              "      <th>2022-12-15 10:38:00</th>\n",
              "      <td>-0.188898</td>\n",
              "      <td>-0.413898</td>\n",
              "      <td>0.164322</td>\n",
              "      <td>13.618898</td>\n",
              "      <td>6.464746</td>\n",
              "      <td>12.954153</td>\n",
              "      <td>2.220085</td>\n",
              "      <td>23.822458</td>\n",
              "      <td>-11.327034</td>\n",
              "    </tr>\n",
              "    <tr>\n",
              "      <th>2022-12-15 10:39:00</th>\n",
              "      <td>-1.056949</td>\n",
              "      <td>0.154237</td>\n",
              "      <td>0.225932</td>\n",
              "      <td>-8.265424</td>\n",
              "      <td>-25.913983</td>\n",
              "      <td>-26.685678</td>\n",
              "      <td>-11.120339</td>\n",
              "      <td>8.269661</td>\n",
              "      <td>-19.876525</td>\n",
              "    </tr>\n",
              "    <tr>\n",
              "      <th>2022-12-15 10:40:00</th>\n",
              "      <td>-0.502119</td>\n",
              "      <td>0.141186</td>\n",
              "      <td>0.332542</td>\n",
              "      <td>15.531525</td>\n",
              "      <td>11.551102</td>\n",
              "      <td>-14.099915</td>\n",
              "      <td>-4.763475</td>\n",
              "      <td>-1.187881</td>\n",
              "      <td>-22.533136</td>\n",
              "    </tr>\n",
              "    <tr>\n",
              "      <th>2022-12-15 10:41:00</th>\n",
              "      <td>-0.499322</td>\n",
              "      <td>0.028136</td>\n",
              "      <td>0.655424</td>\n",
              "      <td>-5.107034</td>\n",
              "      <td>5.616356</td>\n",
              "      <td>-5.345508</td>\n",
              "      <td>6.075254</td>\n",
              "      <td>0.390000</td>\n",
              "      <td>-29.213475</td>\n",
              "    </tr>\n",
              "    <tr>\n",
              "      <th>...</th>\n",
              "      <td>...</td>\n",
              "      <td>...</td>\n",
              "      <td>...</td>\n",
              "      <td>...</td>\n",
              "      <td>...</td>\n",
              "      <td>...</td>\n",
              "      <td>...</td>\n",
              "      <td>...</td>\n",
              "      <td>...</td>\n",
              "    </tr>\n",
              "    <tr>\n",
              "      <th>2022-12-15 14:58:00</th>\n",
              "      <td>0.032797</td>\n",
              "      <td>-0.002627</td>\n",
              "      <td>0.990000</td>\n",
              "      <td>-0.253475</td>\n",
              "      <td>-3.558220</td>\n",
              "      <td>-0.282119</td>\n",
              "      <td>-11.703390</td>\n",
              "      <td>-1.788220</td>\n",
              "      <td>-55.315763</td>\n",
              "    </tr>\n",
              "    <tr>\n",
              "      <th>2022-12-15 14:59:00</th>\n",
              "      <td>0.032881</td>\n",
              "      <td>-0.003051</td>\n",
              "      <td>0.990000</td>\n",
              "      <td>-0.257119</td>\n",
              "      <td>-3.572627</td>\n",
              "      <td>-0.267458</td>\n",
              "      <td>-11.624746</td>\n",
              "      <td>-1.819661</td>\n",
              "      <td>-55.278644</td>\n",
              "    </tr>\n",
              "    <tr>\n",
              "      <th>2022-12-15 15:00:00</th>\n",
              "      <td>0.033729</td>\n",
              "      <td>-0.003475</td>\n",
              "      <td>0.990085</td>\n",
              "      <td>-0.277797</td>\n",
              "      <td>-3.575085</td>\n",
              "      <td>-0.313475</td>\n",
              "      <td>-11.786864</td>\n",
              "      <td>-1.927373</td>\n",
              "      <td>-55.156525</td>\n",
              "    </tr>\n",
              "    <tr>\n",
              "      <th>2022-12-15 15:01:00</th>\n",
              "      <td>0.033305</td>\n",
              "      <td>-0.002542</td>\n",
              "      <td>0.990000</td>\n",
              "      <td>-0.268559</td>\n",
              "      <td>-3.526695</td>\n",
              "      <td>-0.301525</td>\n",
              "      <td>-11.683220</td>\n",
              "      <td>-1.796949</td>\n",
              "      <td>-55.048729</td>\n",
              "    </tr>\n",
              "    <tr>\n",
              "      <th>2022-12-15 15:02:00</th>\n",
              "      <td>0.032903</td>\n",
              "      <td>-0.004194</td>\n",
              "      <td>0.990000</td>\n",
              "      <td>-0.265484</td>\n",
              "      <td>-3.514839</td>\n",
              "      <td>-0.278065</td>\n",
              "      <td>-11.792581</td>\n",
              "      <td>-1.798710</td>\n",
              "      <td>-54.942258</td>\n",
              "    </tr>\n",
              "  </tbody>\n",
              "</table>\n",
              "<p>266 rows × 9 columns</p>\n",
              "</div>\n",
              "      <button class=\"colab-df-convert\" onclick=\"convertToInteractive('df-5c6d1edd-7227-4124-9801-43567421ebac')\"\n",
              "              title=\"Convert this dataframe to an interactive table.\"\n",
              "              style=\"display:none;\">\n",
              "        \n",
              "  <svg xmlns=\"http://www.w3.org/2000/svg\" height=\"24px\"viewBox=\"0 0 24 24\"\n",
              "       width=\"24px\">\n",
              "    <path d=\"M0 0h24v24H0V0z\" fill=\"none\"/>\n",
              "    <path d=\"M18.56 5.44l.94 2.06.94-2.06 2.06-.94-2.06-.94-.94-2.06-.94 2.06-2.06.94zm-11 1L8.5 8.5l.94-2.06 2.06-.94-2.06-.94L8.5 2.5l-.94 2.06-2.06.94zm10 10l.94 2.06.94-2.06 2.06-.94-2.06-.94-.94-2.06-.94 2.06-2.06.94z\"/><path d=\"M17.41 7.96l-1.37-1.37c-.4-.4-.92-.59-1.43-.59-.52 0-1.04.2-1.43.59L10.3 9.45l-7.72 7.72c-.78.78-.78 2.05 0 2.83L4 21.41c.39.39.9.59 1.41.59.51 0 1.02-.2 1.41-.59l7.78-7.78 2.81-2.81c.8-.78.8-2.07 0-2.86zM5.41 20L4 18.59l7.72-7.72 1.47 1.35L5.41 20z\"/>\n",
              "  </svg>\n",
              "      </button>\n",
              "      \n",
              "  <style>\n",
              "    .colab-df-container {\n",
              "      display:flex;\n",
              "      flex-wrap:wrap;\n",
              "      gap: 12px;\n",
              "    }\n",
              "\n",
              "    .colab-df-convert {\n",
              "      background-color: #E8F0FE;\n",
              "      border: none;\n",
              "      border-radius: 50%;\n",
              "      cursor: pointer;\n",
              "      display: none;\n",
              "      fill: #1967D2;\n",
              "      height: 32px;\n",
              "      padding: 0 0 0 0;\n",
              "      width: 32px;\n",
              "    }\n",
              "\n",
              "    .colab-df-convert:hover {\n",
              "      background-color: #E2EBFA;\n",
              "      box-shadow: 0px 1px 2px rgba(60, 64, 67, 0.3), 0px 1px 3px 1px rgba(60, 64, 67, 0.15);\n",
              "      fill: #174EA6;\n",
              "    }\n",
              "\n",
              "    [theme=dark] .colab-df-convert {\n",
              "      background-color: #3B4455;\n",
              "      fill: #D2E3FC;\n",
              "    }\n",
              "\n",
              "    [theme=dark] .colab-df-convert:hover {\n",
              "      background-color: #434B5C;\n",
              "      box-shadow: 0px 1px 3px 1px rgba(0, 0, 0, 0.15);\n",
              "      filter: drop-shadow(0px 1px 2px rgba(0, 0, 0, 0.3));\n",
              "      fill: #FFFFFF;\n",
              "    }\n",
              "  </style>\n",
              "\n",
              "      <script>\n",
              "        const buttonEl =\n",
              "          document.querySelector('#df-5c6d1edd-7227-4124-9801-43567421ebac button.colab-df-convert');\n",
              "        buttonEl.style.display =\n",
              "          google.colab.kernel.accessAllowed ? 'block' : 'none';\n",
              "\n",
              "        async function convertToInteractive(key) {\n",
              "          const element = document.querySelector('#df-5c6d1edd-7227-4124-9801-43567421ebac');\n",
              "          const dataTable =\n",
              "            await google.colab.kernel.invokeFunction('convertToInteractive',\n",
              "                                                     [key], {});\n",
              "          if (!dataTable) return;\n",
              "\n",
              "          const docLinkHtml = 'Like what you see? Visit the ' +\n",
              "            '<a target=\"_blank\" href=https://colab.research.google.com/notebooks/data_table.ipynb>data table notebook</a>'\n",
              "            + ' to learn more about interactive tables.';\n",
              "          element.innerHTML = '';\n",
              "          dataTable['output_type'] = 'display_data';\n",
              "          await google.colab.output.renderOutput(dataTable, element);\n",
              "          const docLink = document.createElement('div');\n",
              "          docLink.innerHTML = docLinkHtml;\n",
              "          element.appendChild(docLink);\n",
              "        }\n",
              "      </script>\n",
              "    </div>\n",
              "  </div>\n",
              "  "
            ]
          },
          "metadata": {},
          "execution_count": 52
        }
      ]
    },
    {
      "cell_type": "code",
      "metadata": {
        "colab": {
          "base_uri": "https://localhost:8080/",
          "height": 366
        },
        "id": "pTaucOzzwl0H",
        "outputId": "d862a6b4-a064-4b4e-ad89-ed45d5f0f05b"
      },
      "source": [
        "#  Plot mean of the all iot data per every minute\n",
        "iot_data.resample('60S').mean().plot(figsize=(8,5), \n",
        "                                     title='Minutely change of Acc, Gyro, Mag')\n",
        "plt.legend(bbox_to_anchor=(1.02, 1.0))"
      ],
      "execution_count": 53,
      "outputs": [
        {
          "output_type": "execute_result",
          "data": {
            "text/plain": [
              "<matplotlib.legend.Legend at 0x7fa410fc5160>"
            ]
          },
          "metadata": {},
          "execution_count": 53
        },
        {
          "output_type": "display_data",
          "data": {
            "text/plain": [
              "<Figure size 576x360 with 1 Axes>"
            ],
            "image/png": "[encoded data removed]"
          },
          "metadata": {
            "needs_background": "light"
          }
        }
      ]
    },
    {
      "cell_type": "markdown",
      "source": [
        "### [DIY-5]  아래 코드를 참조해서 Ay,Gy,My의 2분 평균값의 변화를 보여 주는 그래프를 그리시오."
      ],
      "metadata": {
        "id": "9z0suCUnyY2p"
      }
    },
    {
      "cell_type": "code",
      "metadata": {
        "colab": {
          "base_uri": "https://localhost:8080/",
          "height": 366
        },
        "id": "12Ydfv9ULNBl",
        "outputId": "fc92ba47-94f0-4bab-8a14-2972db731a80"
      },
      "source": [
        "#  Plot mean of the iot data per every minute\n",
        "iot_data[['accel_y', 'gyro_y', 'mag_y']].resample('120S').mean().plot(figsize=(10,5), \n",
        "                                     title='Minutely change of R, G, B',\n",
        "                                     color=\"rgb\")"
      ],
      "execution_count": 54,
      "outputs": [
        {
          "output_type": "execute_result",
          "data": {
            "text/plain": [
              "<matplotlib.axes._subplots.AxesSubplot at 0x7fa40f7e1e50>"
            ]
          },
          "metadata": {},
          "execution_count": 54
        },
        {
          "output_type": "display_data",
          "data": {
            "text/plain": [
              "<Figure size 720x360 with 1 Axes>"
            ],
            "image/png": "[encoded data removed]"
          },
          "metadata": {
            "needs_background": "light"
          }
        }
      ]
    },
    {
      "cell_type": "markdown",
      "source": [
        "### 시간 평균 변화화"
      ],
      "metadata": {
        "id": "e4BFrgsR0EUM"
      }
    },
    {
      "cell_type": "code",
      "metadata": {
        "colab": {
          "base_uri": "https://localhost:8080/",
          "height": 417
        },
        "id": "cMHVdg3awl0M",
        "outputId": "636a9c67-62e2-4b8e-acf4-65f51c2e1d33"
      },
      "source": [
        "# Estimate the mean of iot data for every hour\n",
        "iot_data.resample('H').mean()  # mean per each hour"
      ],
      "execution_count": 55,
      "outputs": [
        {
          "output_type": "execute_result",
          "data": {
            "text/plain": [
              "                      accel_x   accel_y   accel_z    gyro_x    gyro_y  \\\n",
              "date                                                                    \n",
              "2022-12-15 10:00:00 -0.320563  0.076382  0.579894  1.693323 -2.134076   \n",
              "2022-12-15 11:00:00  0.002012 -0.000222  0.967131 -0.238344 -3.671893   \n",
              "2022-12-15 12:00:00  0.024788 -0.005139  0.977710 -0.122556 -3.427648   \n",
              "2022-12-15 13:00:00  0.024613 -0.036221  0.957138 -0.111117 -2.655848   \n",
              "2022-12-15 14:00:00  0.034497 -0.002453  0.990001 -0.259432 -3.520939   \n",
              "2022-12-15 15:00:00  0.033446 -0.003146  0.990037 -0.272285 -3.546704   \n",
              "\n",
              "                       gyro_z      mag_x      mag_y      mag_z  \n",
              "date                                                            \n",
              "2022-12-15 10:00:00 -3.226756  -7.121592   0.531032 -29.040688  \n",
              "2022-12-15 11:00:00 -0.307642  -7.015582  -6.014492 -45.789966  \n",
              "2022-12-15 12:00:00 -0.323146   6.402508   1.514480 -48.794594  \n",
              "2022-12-15 13:00:00  0.802740  -0.487884  15.834458 -61.563330  \n",
              "2022-12-15 14:00:00 -0.302225 -11.672199  -1.866293 -55.198633  \n",
              "2022-12-15 15:00:00 -0.304082 -11.741723  -1.854794 -55.084007  "
            ],
            "text/html": [
              "\n",
              "  <div id=\"df-66706161-4b08-47e5-9252-33150d7a2e86\">\n",
              "    <div class=\"colab-df-container\">\n",
              "      <div>\n",
              "<style scoped>\n",
              "    .dataframe tbody tr th:only-of-type {\n",
              "        vertical-align: middle;\n",
              "    }\n",
              "\n",
              "    .dataframe tbody tr th {\n",
              "        vertical-align: top;\n",
              "    }\n",
              "\n",
              "    .dataframe thead th {\n",
              "        text-align: right;\n",
              "    }\n",
              "</style>\n",
              "<table border=\"1\" class=\"dataframe\">\n",
              "  <thead>\n",
              "    <tr style=\"text-align: right;\">\n",
              "      <th></th>\n",
              "      <th>accel_x</th>\n",
              "      <th>accel_y</th>\n",
              "      <th>accel_z</th>\n",
              "      <th>gyro_x</th>\n",
              "      <th>gyro_y</th>\n",
              "      <th>gyro_z</th>\n",
              "      <th>mag_x</th>\n",
              "      <th>mag_y</th>\n",
              "      <th>mag_z</th>\n",
              "    </tr>\n",
              "    <tr>\n",
              "      <th>date</th>\n",
              "      <th></th>\n",
              "      <th></th>\n",
              "      <th></th>\n",
              "      <th></th>\n",
              "      <th></th>\n",
              "      <th></th>\n",
              "      <th></th>\n",
              "      <th></th>\n",
              "      <th></th>\n",
              "    </tr>\n",
              "  </thead>\n",
              "  <tbody>\n",
              "    <tr>\n",
              "      <th>2022-12-15 10:00:00</th>\n",
              "      <td>-0.320563</td>\n",
              "      <td>0.076382</td>\n",
              "      <td>0.579894</td>\n",
              "      <td>1.693323</td>\n",
              "      <td>-2.134076</td>\n",
              "      <td>-3.226756</td>\n",
              "      <td>-7.121592</td>\n",
              "      <td>0.531032</td>\n",
              "      <td>-29.040688</td>\n",
              "    </tr>\n",
              "    <tr>\n",
              "      <th>2022-12-15 11:00:00</th>\n",
              "      <td>0.002012</td>\n",
              "      <td>-0.000222</td>\n",
              "      <td>0.967131</td>\n",
              "      <td>-0.238344</td>\n",
              "      <td>-3.671893</td>\n",
              "      <td>-0.307642</td>\n",
              "      <td>-7.015582</td>\n",
              "      <td>-6.014492</td>\n",
              "      <td>-45.789966</td>\n",
              "    </tr>\n",
              "    <tr>\n",
              "      <th>2022-12-15 12:00:00</th>\n",
              "      <td>0.024788</td>\n",
              "      <td>-0.005139</td>\n",
              "      <td>0.977710</td>\n",
              "      <td>-0.122556</td>\n",
              "      <td>-3.427648</td>\n",
              "      <td>-0.323146</td>\n",
              "      <td>6.402508</td>\n",
              "      <td>1.514480</td>\n",
              "      <td>-48.794594</td>\n",
              "    </tr>\n",
              "    <tr>\n",
              "      <th>2022-12-15 13:00:00</th>\n",
              "      <td>0.024613</td>\n",
              "      <td>-0.036221</td>\n",
              "      <td>0.957138</td>\n",
              "      <td>-0.111117</td>\n",
              "      <td>-2.655848</td>\n",
              "      <td>0.802740</td>\n",
              "      <td>-0.487884</td>\n",
              "      <td>15.834458</td>\n",
              "      <td>-61.563330</td>\n",
              "    </tr>\n",
              "    <tr>\n",
              "      <th>2022-12-15 14:00:00</th>\n",
              "      <td>0.034497</td>\n",
              "      <td>-0.002453</td>\n",
              "      <td>0.990001</td>\n",
              "      <td>-0.259432</td>\n",
              "      <td>-3.520939</td>\n",
              "      <td>-0.302225</td>\n",
              "      <td>-11.672199</td>\n",
              "      <td>-1.866293</td>\n",
              "      <td>-55.198633</td>\n",
              "    </tr>\n",
              "    <tr>\n",
              "      <th>2022-12-15 15:00:00</th>\n",
              "      <td>0.033446</td>\n",
              "      <td>-0.003146</td>\n",
              "      <td>0.990037</td>\n",
              "      <td>-0.272285</td>\n",
              "      <td>-3.546704</td>\n",
              "      <td>-0.304082</td>\n",
              "      <td>-11.741723</td>\n",
              "      <td>-1.854794</td>\n",
              "      <td>-55.084007</td>\n",
              "    </tr>\n",
              "  </tbody>\n",
              "</table>\n",
              "</div>\n",
              "      <button class=\"colab-df-convert\" onclick=\"convertToInteractive('df-66706161-4b08-47e5-9252-33150d7a2e86')\"\n",
              "              title=\"Convert this dataframe to an interactive table.\"\n",
              "              style=\"display:none;\">\n",
              "        \n",
              "  <svg xmlns=\"http://www.w3.org/2000/svg\" height=\"24px\"viewBox=\"0 0 24 24\"\n",
              "       width=\"24px\">\n",
              "    <path d=\"M0 0h24v24H0V0z\" fill=\"none\"/>\n",
              "    <path d=\"M18.56 5.44l.94 2.06.94-2.06 2.06-.94-2.06-.94-.94-2.06-.94 2.06-2.06.94zm-11 1L8.5 8.5l.94-2.06 2.06-.94-2.06-.94L8.5 2.5l-.94 2.06-2.06.94zm10 10l.94 2.06.94-2.06 2.06-.94-2.06-.94-.94-2.06-.94 2.06-2.06.94z\"/><path d=\"M17.41 7.96l-1.37-1.37c-.4-.4-.92-.59-1.43-.59-.52 0-1.04.2-1.43.59L10.3 9.45l-7.72 7.72c-.78.78-.78 2.05 0 2.83L4 21.41c.39.39.9.59 1.41.59.51 0 1.02-.2 1.41-.59l7.78-7.78 2.81-2.81c.8-.78.8-2.07 0-2.86zM5.41 20L4 18.59l7.72-7.72 1.47 1.35L5.41 20z\"/>\n",
              "  </svg>\n",
              "      </button>\n",
              "      \n",
              "  <style>\n",
              "    .colab-df-container {\n",
              "      display:flex;\n",
              "      flex-wrap:wrap;\n",
              "      gap: 12px;\n",
              "    }\n",
              "\n",
              "    .colab-df-convert {\n",
              "      background-color: #E8F0FE;\n",
              "      border: none;\n",
              "      border-radius: 50%;\n",
              "      cursor: pointer;\n",
              "      display: none;\n",
              "      fill: #1967D2;\n",
              "      height: 32px;\n",
              "      padding: 0 0 0 0;\n",
              "      width: 32px;\n",
              "    }\n",
              "\n",
              "    .colab-df-convert:hover {\n",
              "      background-color: #E2EBFA;\n",
              "      box-shadow: 0px 1px 2px rgba(60, 64, 67, 0.3), 0px 1px 3px 1px rgba(60, 64, 67, 0.15);\n",
              "      fill: #174EA6;\n",
              "    }\n",
              "\n",
              "    [theme=dark] .colab-df-convert {\n",
              "      background-color: #3B4455;\n",
              "      fill: #D2E3FC;\n",
              "    }\n",
              "\n",
              "    [theme=dark] .colab-df-convert:hover {\n",
              "      background-color: #434B5C;\n",
              "      box-shadow: 0px 1px 3px 1px rgba(0, 0, 0, 0.15);\n",
              "      filter: drop-shadow(0px 1px 2px rgba(0, 0, 0, 0.3));\n",
              "      fill: #FFFFFF;\n",
              "    }\n",
              "  </style>\n",
              "\n",
              "      <script>\n",
              "        const buttonEl =\n",
              "          document.querySelector('#df-66706161-4b08-47e5-9252-33150d7a2e86 button.colab-df-convert');\n",
              "        buttonEl.style.display =\n",
              "          google.colab.kernel.accessAllowed ? 'block' : 'none';\n",
              "\n",
              "        async function convertToInteractive(key) {\n",
              "          const element = document.querySelector('#df-66706161-4b08-47e5-9252-33150d7a2e86');\n",
              "          const dataTable =\n",
              "            await google.colab.kernel.invokeFunction('convertToInteractive',\n",
              "                                                     [key], {});\n",
              "          if (!dataTable) return;\n",
              "\n",
              "          const docLinkHtml = 'Like what you see? Visit the ' +\n",
              "            '<a target=\"_blank\" href=https://colab.research.google.com/notebooks/data_table.ipynb>data table notebook</a>'\n",
              "            + ' to learn more about interactive tables.';\n",
              "          element.innerHTML = '';\n",
              "          dataTable['output_type'] = 'display_data';\n",
              "          await google.colab.output.renderOutput(dataTable, element);\n",
              "          const docLink = document.createElement('div');\n",
              "          docLink.innerHTML = docLinkHtml;\n",
              "          element.appendChild(docLink);\n",
              "        }\n",
              "      </script>\n",
              "    </div>\n",
              "  </div>\n",
              "  "
            ]
          },
          "metadata": {},
          "execution_count": 55
        }
      ]
    },
    {
      "cell_type": "code",
      "metadata": {
        "colab": {
          "base_uri": "https://localhost:8080/"
        },
        "id": "44z_H8_DPqIV",
        "outputId": "dec8dc69-fe64-44ce-cfc3-baff38ffb621"
      },
      "source": [
        "iot_data.resample('H').mean().shape, iot_data.resample('H').mean().info()"
      ],
      "execution_count": 56,
      "outputs": [
        {
          "output_type": "stream",
          "name": "stdout",
          "text": [
            "<class 'pandas.core.frame.DataFrame'>\n",
            "DatetimeIndex: 6 entries, 2022-12-15 10:00:00 to 2022-12-15 15:00:00\n",
            "Freq: H\n",
            "Data columns (total 9 columns):\n",
            " #   Column   Non-Null Count  Dtype  \n",
            "---  ------   --------------  -----  \n",
            " 0   accel_x  6 non-null      float64\n",
            " 1   accel_y  6 non-null      float64\n",
            " 2   accel_z  6 non-null      float64\n",
            " 3   gyro_x   6 non-null      float64\n",
            " 4   gyro_y   6 non-null      float64\n",
            " 5   gyro_z   6 non-null      float64\n",
            " 6   mag_x    6 non-null      float64\n",
            " 7   mag_y    6 non-null      float64\n",
            " 8   mag_z    6 non-null      float64\n",
            "dtypes: float64(9)\n",
            "memory usage: 480.0 bytes\n"
          ]
        },
        {
          "output_type": "execute_result",
          "data": {
            "text/plain": [
              "((6, 9), None)"
            ]
          },
          "metadata": {},
          "execution_count": 56
        }
      ]
    },
    {
      "cell_type": "code",
      "metadata": {
        "colab": {
          "base_uri": "https://localhost:8080/",
          "height": 135
        },
        "id": "7zNu8qnxwl0Q",
        "outputId": "d3dc19e2-3fb3-401c-8b20-c8b321878913"
      },
      "source": [
        "#  Plot mean of the iot data per every hour \n",
        "iot_data.resample('H').mean().plot(figsize=(10,6), '-o'\n",
        "                                   title='Hourly change of all sensor data') #, \n",
        "                                #    ylim=[0,500])"
      ],
      "execution_count": 57,
      "outputs": [
        {
          "output_type": "error",
          "ename": "SyntaxError",
          "evalue": "ignored",
          "traceback": [
            "\u001b[0;36m  File \u001b[0;32m\"<ipython-input-57-a0507f8b1f52>\"\u001b[0;36m, line \u001b[0;32m3\u001b[0m\n\u001b[0;31m    title='Hourly change of all sensor data') #,\u001b[0m\n\u001b[0m    ^\u001b[0m\n\u001b[0;31mSyntaxError\u001b[0m\u001b[0;31m:\u001b[0m invalid syntax\n"
          ]
        }
      ]
    },
    {
      "cell_type": "markdown",
      "source": [
        "### [DIY-6]  아래 코드를 참조해서 Az,Gz,Mz의 1 시간 평균값의 변화를 보여 주는 그래프를 그리시오."
      ],
      "metadata": {
        "id": "SF4Jmw4Zzy6v"
      }
    },
    {
      "cell_type": "code",
      "metadata": {
        "colab": {
          "base_uri": "https://localhost:8080/",
          "height": 422
        },
        "id": "QXDpqM0IMSho",
        "outputId": "6196b053-6c54-451b-fec9-161542facb65"
      },
      "source": [
        "#  Plot mean of the iot data per every minute\n",
        "iot_data[['accel_z', 'gyro_z', 'mag_z']].resample('H').mean().plot(figsize=(10,6), \n",
        "                                    color = ['red', 'green', 'blue'],\n",
        "                                    title='Hourly change of Az, Gz, Mz')"
      ],
      "execution_count": 58,
      "outputs": [
        {
          "output_type": "execute_result",
          "data": {
            "text/plain": [
              "<matplotlib.axes._subplots.AxesSubplot at 0x7fa40f1dc250>"
            ]
          },
          "metadata": {},
          "execution_count": 58
        },
        {
          "output_type": "display_data",
          "data": {
            "text/plain": [
              "<Figure size 720x432 with 1 Axes>"
            ],
            "image/png": "[encoded data removed]"
          },
          "metadata": {
            "needs_background": "light"
          }
        }
      ]
    },
    {
      "cell_type": "markdown",
      "source": [
        "### Good Job!  Have a great winter vacation!!!"
      ],
      "metadata": {
        "id": "_ZgNafGZ0fsV"
      }
    },
    {
      "cell_type": "markdown",
      "source": [
        "----"
      ],
      "metadata": {
        "id": "8BcJ8Xlz0tbd"
      }
    },
    {
      "cell_type": "code",
      "source": [],
      "metadata": {
        "id": "4mmCP2TU0u1T"
      },
      "execution_count": null,
      "outputs": []
    }
  ]
}